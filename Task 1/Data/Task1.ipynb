{
 "cells": [
  {
   "cell_type": "markdown",
   "metadata": {},
   "source": [
    "# **Social Buzz Data - Cleaning and Descriptive**\n",
    "Social Buzz emphasizes content by keeping all users anonymous, only tracking user reactions on every piece of content. There are over 100 ways that users can react to content, spanning beyond the traditional reactions of likes, dislikes, and comments. This ensures that trending content, as opposed to individual users, is at the forefront of user feeds.\n",
    "\n",
    "They are expecting an analysis of their content categories that `highlights the top 5 categories with the largest aggregate popularity`"
   ]
  },
  {
   "attachments": {
    "image-2.png": {
     "image/png": "[encoded data removed]"
    }
   },
   "cell_type": "markdown",
   "metadata": {},
   "source": [
    "![image-2.png](attachment:image-2.png)"
   ]
  },
  {
   "cell_type": "markdown",
   "metadata": {},
   "source": [
    "Git Path:'C:/Users/bongi/OneDrive/Bongiwe_Documents/Academics/Forage/'"
   ]
  },
  {
   "cell_type": "code",
   "execution_count": null,
   "metadata": {},
   "outputs": [],
   "source": [
    "#SB_Location.describe(include=\"all\")"
   ]
  },
  {
   "cell_type": "markdown",
   "metadata": {},
   "source": [
    "## **1. Data**\n",
    "___"
   ]
  },
  {
   "cell_type": "code",
   "execution_count": 244,
   "metadata": {},
   "outputs": [],
   "source": [
    "#import libraries\n",
    "import pandas as pd"
   ]
  },
  {
   "cell_type": "code",
   "execution_count": 287,
   "metadata": {},
   "outputs": [],
   "source": [
    "#import data\n",
    "SB_Content = pd.read_csv(r\"C:\\Users\\bongi\\OneDrive\\Bongiwe_Documents\\Academics\\Forage\\Task 1\\Data\\Content (1).csv\")\n",
    "SB_Location = pd.read_csv(r\"C:\\Users\\bongi\\OneDrive\\Bongiwe_Documents\\Academics\\Forage\\Task 1\\Data\\Location (1).csv\")\n",
    "SB_Profile = pd.read_csv(r\"C:\\Users\\bongi\\OneDrive\\Bongiwe_Documents\\Academics\\Forage\\Task 1\\Data\\Profile (1).csv\")\n",
    "SB_Reactions = pd.read_csv(r\"C:\\Users\\bongi\\OneDrive\\Bongiwe_Documents\\Academics\\Forage\\Task 1\\Data\\Reactions (1).csv\")\n",
    "SB_ReactionTypes = pd.read_csv(r\"C:\\Users\\bongi\\OneDrive\\Bongiwe_Documents\\Academics\\Forage\\Task 1\\Data\\ReactionTypes (1).csv\")\n",
    "SB_Session = pd.read_csv(r\"C:\\Users\\bongi\\OneDrive\\Bongiwe_Documents\\Academics\\Forage\\Task 1\\Data\\Session (1).csv\")\n",
    "SB_User = pd.read_csv(r\"C:\\Users\\bongi\\OneDrive\\Bongiwe_Documents\\Academics\\Forage\\Task 1\\Data\\User (1).csv\")"
   ]
  },
  {
   "cell_type": "markdown",
   "metadata": {},
   "source": [
    "## **2. Cleaning**\n",
    "___"
   ]
  },
  {
   "cell_type": "markdown",
   "metadata": {},
   "source": [
    "### <font color=green>Merge Datasets</font>"
   ]
  },
  {
   "cell_type": "code",
   "execution_count": 288,
   "metadata": {},
   "outputs": [],
   "source": [
    "df = SB_Reactions.merge(SB_ReactionTypes,left_on='Type',right_on='Type').merge(SB_Content,left_on='Content ID', right_on='Content ID',suffixes=('_FromReaction','_FromContent'))"
   ]
  },
  {
   "cell_type": "markdown",
   "metadata": {},
   "source": [
    "### <font color=green>List all Column names</font>"
   ]
  },
  {
   "cell_type": "code",
   "execution_count": 292,
   "metadata": {},
   "outputs": [
    {
     "data": {
      "text/plain": [
       "['Content ID',\n",
       " 'Reaction Type',\n",
       " 'Datetime',\n",
       " 'Sentiment',\n",
       " 'Score',\n",
       " 'User ID',\n",
       " 'Content Type',\n",
       " 'Category',\n",
       " 'URL']"
      ]
     },
     "execution_count": 292,
     "metadata": {},
     "output_type": "execute_result"
    }
   ],
   "source": [
    "list(df.columns)"
   ]
  },
  {
   "cell_type": "markdown",
   "metadata": {},
   "source": [
    "### <font color=green>Drop columns</font>"
   ]
  },
  {
   "cell_type": "code",
   "execution_count": 290,
   "metadata": {},
   "outputs": [
    {
     "data": {
      "text/html": [
       "<div>\n",
       "<style scoped>\n",
       "    .dataframe tbody tr th:only-of-type {\n",
       "        vertical-align: middle;\n",
       "    }\n",
       "\n",
       "    .dataframe tbody tr th {\n",
       "        vertical-align: top;\n",
       "    }\n",
       "\n",
       "    .dataframe thead th {\n",
       "        text-align: right;\n",
       "    }\n",
       "</style>\n",
       "<table border=\"1\" class=\"dataframe\">\n",
       "  <thead>\n",
       "    <tr style=\"text-align: right;\">\n",
       "      <th></th>\n",
       "      <th>Content ID</th>\n",
       "      <th>Type_FromReaction</th>\n",
       "      <th>Datetime</th>\n",
       "      <th>Sentiment</th>\n",
       "      <th>Score</th>\n",
       "      <th>User ID_FromContent</th>\n",
       "      <th>Type_FromContent</th>\n",
       "      <th>Category</th>\n",
       "      <th>URL</th>\n",
       "    </tr>\n",
       "  </thead>\n",
       "  <tbody>\n",
       "    <tr>\n",
       "      <th>0</th>\n",
       "      <td>97522e57-d9ab-4bd6-97bf-c24d952602d2</td>\n",
       "      <td>disgust</td>\n",
       "      <td>2020-11-07 09:43:50</td>\n",
       "      <td>negative</td>\n",
       "      <td>0</td>\n",
       "      <td>8d3cd87d-8a31-4935-9a4f-b319bfe05f31</td>\n",
       "      <td>photo</td>\n",
       "      <td>Studying</td>\n",
       "      <td>https://socialbuzz.cdn.com/content/storage/975...</td>\n",
       "    </tr>\n",
       "    <tr>\n",
       "      <th>1</th>\n",
       "      <td>97522e57-d9ab-4bd6-97bf-c24d952602d2</td>\n",
       "      <td>disgust</td>\n",
       "      <td>2021-01-06 19:13:01</td>\n",
       "      <td>negative</td>\n",
       "      <td>0</td>\n",
       "      <td>8d3cd87d-8a31-4935-9a4f-b319bfe05f31</td>\n",
       "      <td>photo</td>\n",
       "      <td>Studying</td>\n",
       "      <td>https://socialbuzz.cdn.com/content/storage/975...</td>\n",
       "    </tr>\n",
       "    <tr>\n",
       "      <th>2</th>\n",
       "      <td>97522e57-d9ab-4bd6-97bf-c24d952602d2</td>\n",
       "      <td>disgust</td>\n",
       "      <td>2021-04-09 02:46:20</td>\n",
       "      <td>negative</td>\n",
       "      <td>0</td>\n",
       "      <td>8d3cd87d-8a31-4935-9a4f-b319bfe05f31</td>\n",
       "      <td>photo</td>\n",
       "      <td>Studying</td>\n",
       "      <td>https://socialbuzz.cdn.com/content/storage/975...</td>\n",
       "    </tr>\n",
       "    <tr>\n",
       "      <th>3</th>\n",
       "      <td>97522e57-d9ab-4bd6-97bf-c24d952602d2</td>\n",
       "      <td>dislike</td>\n",
       "      <td>2021-06-17 12:22:51</td>\n",
       "      <td>negative</td>\n",
       "      <td>10</td>\n",
       "      <td>8d3cd87d-8a31-4935-9a4f-b319bfe05f31</td>\n",
       "      <td>photo</td>\n",
       "      <td>Studying</td>\n",
       "      <td>https://socialbuzz.cdn.com/content/storage/975...</td>\n",
       "    </tr>\n",
       "    <tr>\n",
       "      <th>4</th>\n",
       "      <td>97522e57-d9ab-4bd6-97bf-c24d952602d2</td>\n",
       "      <td>dislike</td>\n",
       "      <td>2020-11-09 02:49:59</td>\n",
       "      <td>negative</td>\n",
       "      <td>10</td>\n",
       "      <td>8d3cd87d-8a31-4935-9a4f-b319bfe05f31</td>\n",
       "      <td>photo</td>\n",
       "      <td>Studying</td>\n",
       "      <td>https://socialbuzz.cdn.com/content/storage/975...</td>\n",
       "    </tr>\n",
       "    <tr>\n",
       "      <th>...</th>\n",
       "      <td>...</td>\n",
       "      <td>...</td>\n",
       "      <td>...</td>\n",
       "      <td>...</td>\n",
       "      <td>...</td>\n",
       "      <td>...</td>\n",
       "      <td>...</td>\n",
       "      <td>...</td>\n",
       "      <td>...</td>\n",
       "    </tr>\n",
       "    <tr>\n",
       "      <th>24568</th>\n",
       "      <td>99fcc8a6-550f-47a1-b312-aba8a031f6c7</td>\n",
       "      <td>heart</td>\n",
       "      <td>2021-02-26 15:33:26</td>\n",
       "      <td>positive</td>\n",
       "      <td>60</td>\n",
       "      <td>084eb113-0d87-4ae5-891b-2ec7f1e194a8</td>\n",
       "      <td>video</td>\n",
       "      <td>travel</td>\n",
       "      <td>https://socialbuzz.cdn.com/content/storage/99f...</td>\n",
       "    </tr>\n",
       "    <tr>\n",
       "      <th>24569</th>\n",
       "      <td>004e820e-49c3-4ba2-9d02-62db0065410c</td>\n",
       "      <td>heart</td>\n",
       "      <td>2021-03-09 08:50:44</td>\n",
       "      <td>positive</td>\n",
       "      <td>60</td>\n",
       "      <td>9a5aca53-6263-485a-bf77-e60c4608fd26</td>\n",
       "      <td>audio</td>\n",
       "      <td>tennis</td>\n",
       "      <td>https://socialbuzz.cdn.com/content/storage/004...</td>\n",
       "    </tr>\n",
       "    <tr>\n",
       "      <th>24570</th>\n",
       "      <td>a7849ef3-5930-4ba9-9cbe-e215811e713e</td>\n",
       "      <td>heart</td>\n",
       "      <td>2020-09-26 22:01:17</td>\n",
       "      <td>positive</td>\n",
       "      <td>60</td>\n",
       "      <td>d9aab962-e964-4afd-83ee-abda0865da67</td>\n",
       "      <td>photo</td>\n",
       "      <td>studying</td>\n",
       "      <td>https://socialbuzz.cdn.com/content/storage/a78...</td>\n",
       "    </tr>\n",
       "    <tr>\n",
       "      <th>24571</th>\n",
       "      <td>e5f1a4c6-2b27-4c8b-ac9a-21bb6ef7c946</td>\n",
       "      <td>want</td>\n",
       "      <td>2021-02-12 11:54:33</td>\n",
       "      <td>positive</td>\n",
       "      <td>70</td>\n",
       "      <td>d27670c9-f85e-43e0-80a7-122cba908f10</td>\n",
       "      <td>audio</td>\n",
       "      <td>soccer</td>\n",
       "      <td>NaN</td>\n",
       "    </tr>\n",
       "    <tr>\n",
       "      <th>24572</th>\n",
       "      <td>c59e27e9-0439-4699-8ea0-5e93f662a05d</td>\n",
       "      <td>adore</td>\n",
       "      <td>2021-02-02 15:29:19</td>\n",
       "      <td>positive</td>\n",
       "      <td>72</td>\n",
       "      <td>fe15963d-0a77-4247-9bc6-04e146b826b2</td>\n",
       "      <td>GIF</td>\n",
       "      <td>fitness</td>\n",
       "      <td>https://socialbuzz.cdn.com/content/storage/c59...</td>\n",
       "    </tr>\n",
       "  </tbody>\n",
       "</table>\n",
       "<p>24573 rows × 9 columns</p>\n",
       "</div>"
      ],
      "text/plain": [
       "                                 Content ID Type_FromReaction  \\\n",
       "0      97522e57-d9ab-4bd6-97bf-c24d952602d2           disgust   \n",
       "1      97522e57-d9ab-4bd6-97bf-c24d952602d2           disgust   \n",
       "2      97522e57-d9ab-4bd6-97bf-c24d952602d2           disgust   \n",
       "3      97522e57-d9ab-4bd6-97bf-c24d952602d2           dislike   \n",
       "4      97522e57-d9ab-4bd6-97bf-c24d952602d2           dislike   \n",
       "...                                     ...               ...   \n",
       "24568  99fcc8a6-550f-47a1-b312-aba8a031f6c7             heart   \n",
       "24569  004e820e-49c3-4ba2-9d02-62db0065410c             heart   \n",
       "24570  a7849ef3-5930-4ba9-9cbe-e215811e713e             heart   \n",
       "24571  e5f1a4c6-2b27-4c8b-ac9a-21bb6ef7c946              want   \n",
       "24572  c59e27e9-0439-4699-8ea0-5e93f662a05d             adore   \n",
       "\n",
       "                  Datetime Sentiment  Score  \\\n",
       "0      2020-11-07 09:43:50  negative      0   \n",
       "1      2021-01-06 19:13:01  negative      0   \n",
       "2      2021-04-09 02:46:20  negative      0   \n",
       "3      2021-06-17 12:22:51  negative     10   \n",
       "4      2020-11-09 02:49:59  negative     10   \n",
       "...                    ...       ...    ...   \n",
       "24568  2021-02-26 15:33:26  positive     60   \n",
       "24569  2021-03-09 08:50:44  positive     60   \n",
       "24570  2020-09-26 22:01:17  positive     60   \n",
       "24571  2021-02-12 11:54:33  positive     70   \n",
       "24572  2021-02-02 15:29:19  positive     72   \n",
       "\n",
       "                        User ID_FromContent Type_FromContent  Category  \\\n",
       "0      8d3cd87d-8a31-4935-9a4f-b319bfe05f31            photo  Studying   \n",
       "1      8d3cd87d-8a31-4935-9a4f-b319bfe05f31            photo  Studying   \n",
       "2      8d3cd87d-8a31-4935-9a4f-b319bfe05f31            photo  Studying   \n",
       "3      8d3cd87d-8a31-4935-9a4f-b319bfe05f31            photo  Studying   \n",
       "4      8d3cd87d-8a31-4935-9a4f-b319bfe05f31            photo  Studying   \n",
       "...                                     ...              ...       ...   \n",
       "24568  084eb113-0d87-4ae5-891b-2ec7f1e194a8            video    travel   \n",
       "24569  9a5aca53-6263-485a-bf77-e60c4608fd26            audio    tennis   \n",
       "24570  d9aab962-e964-4afd-83ee-abda0865da67            photo  studying   \n",
       "24571  d27670c9-f85e-43e0-80a7-122cba908f10            audio    soccer   \n",
       "24572  fe15963d-0a77-4247-9bc6-04e146b826b2              GIF   fitness   \n",
       "\n",
       "                                                     URL  \n",
       "0      https://socialbuzz.cdn.com/content/storage/975...  \n",
       "1      https://socialbuzz.cdn.com/content/storage/975...  \n",
       "2      https://socialbuzz.cdn.com/content/storage/975...  \n",
       "3      https://socialbuzz.cdn.com/content/storage/975...  \n",
       "4      https://socialbuzz.cdn.com/content/storage/975...  \n",
       "...                                                  ...  \n",
       "24568  https://socialbuzz.cdn.com/content/storage/99f...  \n",
       "24569  https://socialbuzz.cdn.com/content/storage/004...  \n",
       "24570  https://socialbuzz.cdn.com/content/storage/a78...  \n",
       "24571                                                NaN  \n",
       "24572  https://socialbuzz.cdn.com/content/storage/c59...  \n",
       "\n",
       "[24573 rows x 9 columns]"
      ]
     },
     "execution_count": 290,
     "metadata": {},
     "output_type": "execute_result"
    }
   ],
   "source": [
    "df = df.drop(['Unnamed: 0_x','Unnamed: 0_y','Unnamed: 0','User ID_FromReaction'], axis=1)\n",
    "df"
   ]
  },
  {
   "cell_type": "markdown",
   "metadata": {},
   "source": [
    "### <font color=green>Rename columns</font>"
   ]
  },
  {
   "cell_type": "code",
   "execution_count": 291,
   "metadata": {},
   "outputs": [],
   "source": [
    "df.rename(columns={'User ID_FromContent': 'User ID', 'Type_FromContent': 'Content Type', 'Type_FromReaction': 'Reaction Type'}, inplace=True)"
   ]
  },
  {
   "cell_type": "markdown",
   "metadata": {},
   "source": [
    "### <font color=green>Check if Index is unique</font>"
   ]
  },
  {
   "cell_type": "code",
   "execution_count": 293,
   "metadata": {},
   "outputs": [
    {
     "name": "stdout",
     "output_type": "stream",
     "text": [
      "Content ID False\n",
      "Reaction Type False\n",
      "Datetime False\n",
      "Sentiment False\n",
      "Score False\n",
      "User ID False\n",
      "Content Type False\n",
      "Category False\n",
      "URL False\n"
     ]
    }
   ],
   "source": [
    "for a in list(df.columns):\n",
    "    print(a, df[a].is_unique)"
   ]
  },
  {
   "cell_type": "markdown",
   "metadata": {},
   "source": [
    "### <font color=green>Check for Null values</font>"
   ]
  },
  {
   "cell_type": "code",
   "execution_count": 294,
   "metadata": {},
   "outputs": [
    {
     "data": {
      "text/plain": [
       "Content ID          0\n",
       "Reaction Type       0\n",
       "Datetime            0\n",
       "Sentiment           0\n",
       "Score               0\n",
       "User ID             0\n",
       "Content Type        0\n",
       "Category            0\n",
       "URL              4517\n",
       "dtype: int64"
      ]
     },
     "execution_count": 294,
     "metadata": {},
     "output_type": "execute_result"
    }
   ],
   "source": [
    "df.isnull().sum()"
   ]
  },
  {
   "cell_type": "markdown",
   "metadata": {},
   "source": [
    "### <font color=green>Check for Na values</font>"
   ]
  },
  {
   "cell_type": "code",
   "execution_count": 295,
   "metadata": {},
   "outputs": [
    {
     "data": {
      "text/html": [
       "<div>\n",
       "<style scoped>\n",
       "    .dataframe tbody tr th:only-of-type {\n",
       "        vertical-align: middle;\n",
       "    }\n",
       "\n",
       "    .dataframe tbody tr th {\n",
       "        vertical-align: top;\n",
       "    }\n",
       "\n",
       "    .dataframe thead th {\n",
       "        text-align: right;\n",
       "    }\n",
       "</style>\n",
       "<table border=\"1\" class=\"dataframe\">\n",
       "  <thead>\n",
       "    <tr style=\"text-align: right;\">\n",
       "      <th></th>\n",
       "      <th>Content ID</th>\n",
       "      <th>Reaction Type</th>\n",
       "      <th>Datetime</th>\n",
       "      <th>Sentiment</th>\n",
       "      <th>Score</th>\n",
       "      <th>User ID</th>\n",
       "      <th>Content Type</th>\n",
       "      <th>Category</th>\n",
       "      <th>URL</th>\n",
       "    </tr>\n",
       "  </thead>\n",
       "  <tbody>\n",
       "    <tr>\n",
       "      <th>0</th>\n",
       "      <td>0</td>\n",
       "      <td>0</td>\n",
       "      <td>0</td>\n",
       "      <td>0</td>\n",
       "      <td>0</td>\n",
       "      <td>0</td>\n",
       "      <td>0</td>\n",
       "      <td>0</td>\n",
       "      <td>0</td>\n",
       "    </tr>\n",
       "    <tr>\n",
       "      <th>1</th>\n",
       "      <td>0</td>\n",
       "      <td>0</td>\n",
       "      <td>0</td>\n",
       "      <td>0</td>\n",
       "      <td>0</td>\n",
       "      <td>0</td>\n",
       "      <td>0</td>\n",
       "      <td>0</td>\n",
       "      <td>0</td>\n",
       "    </tr>\n",
       "    <tr>\n",
       "      <th>2</th>\n",
       "      <td>0</td>\n",
       "      <td>0</td>\n",
       "      <td>0</td>\n",
       "      <td>0</td>\n",
       "      <td>0</td>\n",
       "      <td>0</td>\n",
       "      <td>0</td>\n",
       "      <td>0</td>\n",
       "      <td>0</td>\n",
       "    </tr>\n",
       "    <tr>\n",
       "      <th>3</th>\n",
       "      <td>0</td>\n",
       "      <td>0</td>\n",
       "      <td>0</td>\n",
       "      <td>0</td>\n",
       "      <td>0</td>\n",
       "      <td>0</td>\n",
       "      <td>0</td>\n",
       "      <td>0</td>\n",
       "      <td>0</td>\n",
       "    </tr>\n",
       "    <tr>\n",
       "      <th>4</th>\n",
       "      <td>0</td>\n",
       "      <td>0</td>\n",
       "      <td>0</td>\n",
       "      <td>0</td>\n",
       "      <td>0</td>\n",
       "      <td>0</td>\n",
       "      <td>0</td>\n",
       "      <td>0</td>\n",
       "      <td>0</td>\n",
       "    </tr>\n",
       "    <tr>\n",
       "      <th>...</th>\n",
       "      <td>...</td>\n",
       "      <td>...</td>\n",
       "      <td>...</td>\n",
       "      <td>...</td>\n",
       "      <td>...</td>\n",
       "      <td>...</td>\n",
       "      <td>...</td>\n",
       "      <td>...</td>\n",
       "      <td>...</td>\n",
       "    </tr>\n",
       "    <tr>\n",
       "      <th>24568</th>\n",
       "      <td>0</td>\n",
       "      <td>0</td>\n",
       "      <td>0</td>\n",
       "      <td>0</td>\n",
       "      <td>0</td>\n",
       "      <td>0</td>\n",
       "      <td>0</td>\n",
       "      <td>0</td>\n",
       "      <td>4516</td>\n",
       "    </tr>\n",
       "    <tr>\n",
       "      <th>24569</th>\n",
       "      <td>0</td>\n",
       "      <td>0</td>\n",
       "      <td>0</td>\n",
       "      <td>0</td>\n",
       "      <td>0</td>\n",
       "      <td>0</td>\n",
       "      <td>0</td>\n",
       "      <td>0</td>\n",
       "      <td>4516</td>\n",
       "    </tr>\n",
       "    <tr>\n",
       "      <th>24570</th>\n",
       "      <td>0</td>\n",
       "      <td>0</td>\n",
       "      <td>0</td>\n",
       "      <td>0</td>\n",
       "      <td>0</td>\n",
       "      <td>0</td>\n",
       "      <td>0</td>\n",
       "      <td>0</td>\n",
       "      <td>4516</td>\n",
       "    </tr>\n",
       "    <tr>\n",
       "      <th>24571</th>\n",
       "      <td>0</td>\n",
       "      <td>0</td>\n",
       "      <td>0</td>\n",
       "      <td>0</td>\n",
       "      <td>0</td>\n",
       "      <td>0</td>\n",
       "      <td>0</td>\n",
       "      <td>0</td>\n",
       "      <td>4517</td>\n",
       "    </tr>\n",
       "    <tr>\n",
       "      <th>24572</th>\n",
       "      <td>0</td>\n",
       "      <td>0</td>\n",
       "      <td>0</td>\n",
       "      <td>0</td>\n",
       "      <td>0</td>\n",
       "      <td>0</td>\n",
       "      <td>0</td>\n",
       "      <td>0</td>\n",
       "      <td>4517</td>\n",
       "    </tr>\n",
       "  </tbody>\n",
       "</table>\n",
       "<p>24573 rows × 9 columns</p>\n",
       "</div>"
      ],
      "text/plain": [
       "       Content ID  Reaction Type  Datetime  Sentiment  Score  User ID  \\\n",
       "0               0              0         0          0      0        0   \n",
       "1               0              0         0          0      0        0   \n",
       "2               0              0         0          0      0        0   \n",
       "3               0              0         0          0      0        0   \n",
       "4               0              0         0          0      0        0   \n",
       "...           ...            ...       ...        ...    ...      ...   \n",
       "24568           0              0         0          0      0        0   \n",
       "24569           0              0         0          0      0        0   \n",
       "24570           0              0         0          0      0        0   \n",
       "24571           0              0         0          0      0        0   \n",
       "24572           0              0         0          0      0        0   \n",
       "\n",
       "       Content Type  Category   URL  \n",
       "0                 0         0     0  \n",
       "1                 0         0     0  \n",
       "2                 0         0     0  \n",
       "3                 0         0     0  \n",
       "4                 0         0     0  \n",
       "...             ...       ...   ...  \n",
       "24568             0         0  4516  \n",
       "24569             0         0  4516  \n",
       "24570             0         0  4516  \n",
       "24571             0         0  4517  \n",
       "24572             0         0  4517  \n",
       "\n",
       "[24573 rows x 9 columns]"
      ]
     },
     "execution_count": 295,
     "metadata": {},
     "output_type": "execute_result"
    }
   ],
   "source": [
    "df.isna().cumsum()"
   ]
  },
  {
   "cell_type": "markdown",
   "metadata": {},
   "source": [
    "### <font color=green>Check for Duplicated rows in the entire dataframe</font>"
   ]
  },
  {
   "cell_type": "code",
   "execution_count": 296,
   "metadata": {
    "scrolled": true
   },
   "outputs": [
    {
     "data": {
      "text/plain": [
       "0"
      ]
     },
     "execution_count": 296,
     "metadata": {},
     "output_type": "execute_result"
    }
   ],
   "source": [
    "df.duplicated(keep='first').sum()"
   ]
  },
  {
   "cell_type": "code",
   "execution_count": 297,
   "metadata": {
    "scrolled": true
   },
   "outputs": [
    {
     "data": {
      "text/plain": [
       "False    24573\n",
       "dtype: int64"
      ]
     },
     "execution_count": 297,
     "metadata": {},
     "output_type": "execute_result"
    }
   ],
   "source": [
    "df.duplicated(keep='first').value_counts()"
   ]
  },
  {
   "cell_type": "markdown",
   "metadata": {},
   "source": [
    "### <font color=green>Remove Duplicated rows in the entire dataset</font>"
   ]
  },
  {
   "cell_type": "code",
   "execution_count": 298,
   "metadata": {},
   "outputs": [],
   "source": [
    "df = df.drop_duplicates()"
   ]
  },
  {
   "cell_type": "code",
   "execution_count": 299,
   "metadata": {},
   "outputs": [
    {
     "data": {
      "text/plain": [
       "0"
      ]
     },
     "execution_count": 299,
     "metadata": {},
     "output_type": "execute_result"
    }
   ],
   "source": [
    "df.duplicated().sum()"
   ]
  },
  {
   "cell_type": "markdown",
   "metadata": {},
   "source": [
    "### <font color=green>Check for Duplicated values per column</font>"
   ]
  },
  {
   "cell_type": "code",
   "execution_count": 300,
   "metadata": {},
   "outputs": [
    {
     "name": "stdout",
     "output_type": "stream",
     "text": [
      "Content ID 23611\n",
      "Reaction Type 24557\n",
      "Datetime 11\n",
      "Sentiment 24570\n",
      "Score 24558\n",
      "User ID 24135\n",
      "Content Type 24569\n",
      "Category 24533\n",
      "URL 23800\n"
     ]
    }
   ],
   "source": [
    "for b in list(df.columns):\n",
    "    print(b, df.duplicated(subset=[b], keep='first').sum())\n"
   ]
  },
  {
   "cell_type": "markdown",
   "metadata": {},
   "source": [
    "### <font color=green>Check for Unique values per row</font>"
   ]
  },
  {
   "cell_type": "code",
   "execution_count": 301,
   "metadata": {},
   "outputs": [
    {
     "data": {
      "text/plain": [
       "Content ID         962\n",
       "Reaction Type       16\n",
       "Datetime         24562\n",
       "Sentiment            3\n",
       "Score               15\n",
       "User ID            438\n",
       "Content Type         4\n",
       "Category            40\n",
       "URL                773\n",
       "dtype: int64"
      ]
     },
     "execution_count": 301,
     "metadata": {},
     "output_type": "execute_result"
    }
   ],
   "source": [
    "df.nunique(dropna=False)"
   ]
  },
  {
   "cell_type": "markdown",
   "metadata": {},
   "source": [
    "### <font color=green>Print unique values for certain columns</font>"
   ]
  },
  {
   "cell_type": "code",
   "execution_count": 302,
   "metadata": {},
   "outputs": [
    {
     "data": {
      "text/plain": [
       "['Studying',\n",
       " 'healthy eating',\n",
       " 'dogs',\n",
       " 'public speaking',\n",
       " 'science',\n",
       " 'tennis',\n",
       " 'food',\n",
       " 'fitness',\n",
       " 'soccer',\n",
       " 'education',\n",
       " 'studying',\n",
       " 'travel',\n",
       " 'veganism',\n",
       " 'cooking',\n",
       " 'technology',\n",
       " 'animals',\n",
       " 'culture',\n",
       " 'Fitness',\n",
       " 'Veganism',\n",
       " '\"animals\"',\n",
       " 'Travel',\n",
       " '\"soccer\"',\n",
       " 'Animals',\n",
       " 'Education',\n",
       " '\"dogs\"',\n",
       " '\"culture\"',\n",
       " 'Soccer',\n",
       " 'Culture',\n",
       " 'Food',\n",
       " '\"technology\"',\n",
       " '\"cooking\"',\n",
       " '\"public speaking\"',\n",
       " 'Science',\n",
       " '\"veganism\"',\n",
       " 'Public Speaking',\n",
       " '\"science\"',\n",
       " '\"studying\"',\n",
       " '\"food\"',\n",
       " 'Healthy Eating',\n",
       " 'Technology']"
      ]
     },
     "execution_count": 302,
     "metadata": {},
     "output_type": "execute_result"
    }
   ],
   "source": [
    "[i for i in df['Category'].unique()]"
   ]
  },
  {
   "cell_type": "markdown",
   "metadata": {},
   "source": [
    "### <font color=green>Capitalize first letter of each word in a column</font>"
   ]
  },
  {
   "cell_type": "code",
   "execution_count": 303,
   "metadata": {},
   "outputs": [
    {
     "data": {
      "text/plain": [
       "['Studying',\n",
       " 'Healthy eating',\n",
       " 'Dogs',\n",
       " 'Public speaking',\n",
       " 'Science',\n",
       " 'Tennis',\n",
       " 'Food',\n",
       " 'Fitness',\n",
       " 'Soccer',\n",
       " 'Education',\n",
       " 'Travel',\n",
       " 'Veganism',\n",
       " 'Cooking',\n",
       " 'Technology',\n",
       " 'Animals',\n",
       " 'Culture']"
      ]
     },
     "execution_count": 303,
     "metadata": {},
     "output_type": "execute_result"
    }
   ],
   "source": [
    "df['Category'] = df['Category'].str.replace('\"','')\n",
    "df['Category'] = df['Category'].str.capitalize()\n",
    "[i for i in df['Category'].unique()]"
   ]
  },
  {
   "cell_type": "markdown",
   "metadata": {},
   "source": [
    "### <font color=green>Get sum of scores per category</font>"
   ]
  },
  {
   "cell_type": "code",
   "execution_count": 304,
   "metadata": {},
   "outputs": [
    {
     "data": {
      "text/plain": [
       "Category\n",
       "Animals           74965\n",
       "Science           71168\n",
       "Healthy eating    69339\n",
       "Technology        68738\n",
       "Food              66676\n",
       "Name: Score, dtype: int64"
      ]
     },
     "execution_count": 304,
     "metadata": {},
     "output_type": "execute_result"
    }
   ],
   "source": [
    "scores = df.groupby('Category')['Score'].sum()\n",
    "scores.sort_values(ascending=False)[:5]"
   ]
  },
  {
   "cell_type": "markdown",
   "metadata": {},
   "source": [
    "### <font color=green>Export Dataframe</font>"
   ]
  },
  {
   "cell_type": "code",
   "execution_count": 305,
   "metadata": {},
   "outputs": [],
   "source": [
    "df.to_csv(r\"C:\\Users\\bongi\\OneDrive\\Bongiwe_Documents\\Academics\\Forage\\Task 1\\Data\\Dataframe.csv\")"
   ]
  },
  {
   "cell_type": "code",
   "execution_count": null,
   "metadata": {},
   "outputs": [],
   "source": []
  }
 ],
 "metadata": {
  "kernelspec": {
   "display_name": "Python 3 (ipykernel)",
   "language": "python",
   "name": "python3"
  },
  "language_info": {
   "codemirror_mode": {
    "name": "ipython",
    "version": 3
   },
   "file_extension": ".py",
   "mimetype": "text/x-python",
   "name": "python",
   "nbconvert_exporter": "python",
   "pygments_lexer": "ipython3",
   "version": "3.10.6"
  },
  "vscode": {
   "interpreter": {
    "hash": "8e227ee619b42d9eecf2200769f97d75245c3b4c9bf0bc4ffc152452ada21f01"
   }
  }
 },
 "nbformat": 4,
 "nbformat_minor": 2
}
