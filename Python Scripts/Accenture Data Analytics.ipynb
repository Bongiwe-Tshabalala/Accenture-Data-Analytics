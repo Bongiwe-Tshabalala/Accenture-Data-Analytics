{
 "cells": [
  {
   "cell_type": "markdown",
   "metadata": {},
   "source": [
    "# **Social Buzz Data - Cleaning and Descriptive**\n",
    "Social Buzz emphasizes content by keeping all users anonymous, only tracking user reactions on every piece of content. There are over 100 ways that users can react to content, spanning beyond the traditional reactions of likes, dislikes, and comments. This ensures that trending content, as opposed to individual users, is at the forefront of user feeds.\n",
    "\n",
    "Social Buzz is expecting an analysis of their content categories that `highlights the top 5 categories with the largest aggregate popularity`"
   ]
  },
  {
   "attachments": {
    "image-2.png": {
     "image/png": "[encoded data removed]"
    }
   },
   "cell_type": "markdown",
   "metadata": {},
   "source": [
    "![image-2.png](attachment:image-2.png)"
   ]
  },
  {
   "cell_type": "markdown",
   "metadata": {},
   "source": [
    "## **1. Data**\n",
    "___"
   ]
  },
  {
   "cell_type": "code",
   "execution_count": 1,
   "metadata": {},
   "outputs": [],
   "source": [
    "#import libraries\n",
    "import pandas as pd"
   ]
  },
  {
   "cell_type": "code",
   "execution_count": 2,
   "metadata": {},
   "outputs": [],
   "source": [
    "#pip install matplotlib\n",
    "import matplotlib.pyplot as plt"
   ]
  },
  {
   "cell_type": "code",
   "execution_count": 3,
   "metadata": {},
   "outputs": [],
   "source": [
    "#import data\n",
    "SB_Content = pd.read_csv(r\"C:\\Users\\bongi\\OneDrive\\Bongiwe_Documents\\Academics\\Forage\\Task 1\\Data\\Content (1).csv\")\n",
    "SB_Location = pd.read_csv(r\"C:\\Users\\bongi\\OneDrive\\Bongiwe_Documents\\Academics\\Forage\\Task 1\\Data\\Location (1).csv\")\n",
    "SB_Profile = pd.read_csv(r\"C:\\Users\\bongi\\OneDrive\\Bongiwe_Documents\\Academics\\Forage\\Task 1\\Data\\Profile (1).csv\")\n",
    "SB_Reactions = pd.read_csv(r\"C:\\Users\\bongi\\OneDrive\\Bongiwe_Documents\\Academics\\Forage\\Task 1\\Data\\Reactions (1).csv\")\n",
    "SB_ReactionTypes = pd.read_csv(r\"C:\\Users\\bongi\\OneDrive\\Bongiwe_Documents\\Academics\\Forage\\Task 1\\Data\\ReactionTypes (1).csv\")\n",
    "SB_Session = pd.read_csv(r\"C:\\Users\\bongi\\OneDrive\\Bongiwe_Documents\\Academics\\Forage\\Task 1\\Data\\Session (1).csv\")\n",
    "SB_User = pd.read_csv(r\"C:\\Users\\bongi\\OneDrive\\Bongiwe_Documents\\Academics\\Forage\\Task 1\\Data\\User (1).csv\")"
   ]
  },
  {
   "cell_type": "markdown",
   "metadata": {},
   "source": [
    "## **2. Cleaning**\n",
    "___"
   ]
  },
  {
   "cell_type": "markdown",
   "metadata": {},
   "source": [
    "### <font color=green>Merge Datasets</font>"
   ]
  },
  {
   "cell_type": "code",
   "execution_count": 4,
   "metadata": {},
   "outputs": [],
   "source": [
    "df = SB_Reactions.merge(SB_ReactionTypes,left_on='Type',right_on='Type').merge(SB_Content,left_on='Content ID', right_on='Content ID',suffixes=('_FromReaction','_FromContent'))"
   ]
  },
  {
   "cell_type": "markdown",
   "metadata": {},
   "source": [
    "### <font color=green>List all Column names</font>"
   ]
  },
  {
   "cell_type": "code",
   "execution_count": 5,
   "metadata": {},
   "outputs": [
    {
     "data": {
      "text/plain": [
       "['Unnamed: 0_x',\n",
       " 'Content ID',\n",
       " 'User ID_FromReaction',\n",
       " 'Type_FromReaction',\n",
       " 'Datetime',\n",
       " 'Unnamed: 0_y',\n",
       " 'Sentiment',\n",
       " 'Score',\n",
       " 'Unnamed: 0',\n",
       " 'User ID_FromContent',\n",
       " 'Type_FromContent',\n",
       " 'Category',\n",
       " 'URL']"
      ]
     },
     "execution_count": 5,
     "metadata": {},
     "output_type": "execute_result"
    }
   ],
   "source": [
    "list(df.columns)"
   ]
  },
  {
   "cell_type": "markdown",
   "metadata": {},
   "source": [
    "### <font color=green>Drop columns</font>"
   ]
  },
  {
   "cell_type": "code",
   "execution_count": 6,
   "metadata": {},
   "outputs": [
    {
     "data": {
      "text/html": [
       "<div>\n",
       "<style scoped>\n",
       "    .dataframe tbody tr th:only-of-type {\n",
       "        vertical-align: middle;\n",
       "    }\n",
       "\n",
       "    .dataframe tbody tr th {\n",
       "        vertical-align: top;\n",
       "    }\n",
       "\n",
       "    .dataframe thead th {\n",
       "        text-align: right;\n",
       "    }\n",
       "</style>\n",
       "<table border=\"1\" class=\"dataframe\">\n",
       "  <thead>\n",
       "    <tr style=\"text-align: right;\">\n",
       "      <th></th>\n",
       "      <th>Content ID</th>\n",
       "      <th>Type_FromReaction</th>\n",
       "      <th>Datetime</th>\n",
       "      <th>Sentiment</th>\n",
       "      <th>Score</th>\n",
       "      <th>User ID_FromContent</th>\n",
       "      <th>Type_FromContent</th>\n",
       "      <th>Category</th>\n",
       "      <th>URL</th>\n",
       "    </tr>\n",
       "  </thead>\n",
       "  <tbody>\n",
       "    <tr>\n",
       "      <th>0</th>\n",
       "      <td>97522e57-d9ab-4bd6-97bf-c24d952602d2</td>\n",
       "      <td>disgust</td>\n",
       "      <td>2020-11-07 09:43:50</td>\n",
       "      <td>negative</td>\n",
       "      <td>0</td>\n",
       "      <td>8d3cd87d-8a31-4935-9a4f-b319bfe05f31</td>\n",
       "      <td>photo</td>\n",
       "      <td>Studying</td>\n",
       "      <td>https://socialbuzz.cdn.com/content/storage/975...</td>\n",
       "    </tr>\n",
       "    <tr>\n",
       "      <th>1</th>\n",
       "      <td>97522e57-d9ab-4bd6-97bf-c24d952602d2</td>\n",
       "      <td>disgust</td>\n",
       "      <td>2021-01-06 19:13:01</td>\n",
       "      <td>negative</td>\n",
       "      <td>0</td>\n",
       "      <td>8d3cd87d-8a31-4935-9a4f-b319bfe05f31</td>\n",
       "      <td>photo</td>\n",
       "      <td>Studying</td>\n",
       "      <td>https://socialbuzz.cdn.com/content/storage/975...</td>\n",
       "    </tr>\n",
       "    <tr>\n",
       "      <th>2</th>\n",
       "      <td>97522e57-d9ab-4bd6-97bf-c24d952602d2</td>\n",
       "      <td>disgust</td>\n",
       "      <td>2021-04-09 02:46:20</td>\n",
       "      <td>negative</td>\n",
       "      <td>0</td>\n",
       "      <td>8d3cd87d-8a31-4935-9a4f-b319bfe05f31</td>\n",
       "      <td>photo</td>\n",
       "      <td>Studying</td>\n",
       "      <td>https://socialbuzz.cdn.com/content/storage/975...</td>\n",
       "    </tr>\n",
       "    <tr>\n",
       "      <th>3</th>\n",
       "      <td>97522e57-d9ab-4bd6-97bf-c24d952602d2</td>\n",
       "      <td>dislike</td>\n",
       "      <td>2021-06-17 12:22:51</td>\n",
       "      <td>negative</td>\n",
       "      <td>10</td>\n",
       "      <td>8d3cd87d-8a31-4935-9a4f-b319bfe05f31</td>\n",
       "      <td>photo</td>\n",
       "      <td>Studying</td>\n",
       "      <td>https://socialbuzz.cdn.com/content/storage/975...</td>\n",
       "    </tr>\n",
       "    <tr>\n",
       "      <th>4</th>\n",
       "      <td>97522e57-d9ab-4bd6-97bf-c24d952602d2</td>\n",
       "      <td>dislike</td>\n",
       "      <td>2020-11-09 02:49:59</td>\n",
       "      <td>negative</td>\n",
       "      <td>10</td>\n",
       "      <td>8d3cd87d-8a31-4935-9a4f-b319bfe05f31</td>\n",
       "      <td>photo</td>\n",
       "      <td>Studying</td>\n",
       "      <td>https://socialbuzz.cdn.com/content/storage/975...</td>\n",
       "    </tr>\n",
       "    <tr>\n",
       "      <th>...</th>\n",
       "      <td>...</td>\n",
       "      <td>...</td>\n",
       "      <td>...</td>\n",
       "      <td>...</td>\n",
       "      <td>...</td>\n",
       "      <td>...</td>\n",
       "      <td>...</td>\n",
       "      <td>...</td>\n",
       "      <td>...</td>\n",
       "    </tr>\n",
       "    <tr>\n",
       "      <th>24568</th>\n",
       "      <td>99fcc8a6-550f-47a1-b312-aba8a031f6c7</td>\n",
       "      <td>heart</td>\n",
       "      <td>2021-02-26 15:33:26</td>\n",
       "      <td>positive</td>\n",
       "      <td>60</td>\n",
       "      <td>084eb113-0d87-4ae5-891b-2ec7f1e194a8</td>\n",
       "      <td>video</td>\n",
       "      <td>travel</td>\n",
       "      <td>https://socialbuzz.cdn.com/content/storage/99f...</td>\n",
       "    </tr>\n",
       "    <tr>\n",
       "      <th>24569</th>\n",
       "      <td>004e820e-49c3-4ba2-9d02-62db0065410c</td>\n",
       "      <td>heart</td>\n",
       "      <td>2021-03-09 08:50:44</td>\n",
       "      <td>positive</td>\n",
       "      <td>60</td>\n",
       "      <td>9a5aca53-6263-485a-bf77-e60c4608fd26</td>\n",
       "      <td>audio</td>\n",
       "      <td>tennis</td>\n",
       "      <td>https://socialbuzz.cdn.com/content/storage/004...</td>\n",
       "    </tr>\n",
       "    <tr>\n",
       "      <th>24570</th>\n",
       "      <td>a7849ef3-5930-4ba9-9cbe-e215811e713e</td>\n",
       "      <td>heart</td>\n",
       "      <td>2020-09-26 22:01:17</td>\n",
       "      <td>positive</td>\n",
       "      <td>60</td>\n",
       "      <td>d9aab962-e964-4afd-83ee-abda0865da67</td>\n",
       "      <td>photo</td>\n",
       "      <td>studying</td>\n",
       "      <td>https://socialbuzz.cdn.com/content/storage/a78...</td>\n",
       "    </tr>\n",
       "    <tr>\n",
       "      <th>24571</th>\n",
       "      <td>e5f1a4c6-2b27-4c8b-ac9a-21bb6ef7c946</td>\n",
       "      <td>want</td>\n",
       "      <td>2021-02-12 11:54:33</td>\n",
       "      <td>positive</td>\n",
       "      <td>70</td>\n",
       "      <td>d27670c9-f85e-43e0-80a7-122cba908f10</td>\n",
       "      <td>audio</td>\n",
       "      <td>soccer</td>\n",
       "      <td>NaN</td>\n",
       "    </tr>\n",
       "    <tr>\n",
       "      <th>24572</th>\n",
       "      <td>c59e27e9-0439-4699-8ea0-5e93f662a05d</td>\n",
       "      <td>adore</td>\n",
       "      <td>2021-02-02 15:29:19</td>\n",
       "      <td>positive</td>\n",
       "      <td>72</td>\n",
       "      <td>fe15963d-0a77-4247-9bc6-04e146b826b2</td>\n",
       "      <td>GIF</td>\n",
       "      <td>fitness</td>\n",
       "      <td>https://socialbuzz.cdn.com/content/storage/c59...</td>\n",
       "    </tr>\n",
       "  </tbody>\n",
       "</table>\n",
       "<p>24573 rows × 9 columns</p>\n",
       "</div>"
      ],
      "text/plain": [
       "                                 Content ID Type_FromReaction  \\\n",
       "0      97522e57-d9ab-4bd6-97bf-c24d952602d2           disgust   \n",
       "1      97522e57-d9ab-4bd6-97bf-c24d952602d2           disgust   \n",
       "2      97522e57-d9ab-4bd6-97bf-c24d952602d2           disgust   \n",
       "3      97522e57-d9ab-4bd6-97bf-c24d952602d2           dislike   \n",
       "4      97522e57-d9ab-4bd6-97bf-c24d952602d2           dislike   \n",
       "...                                     ...               ...   \n",
       "24568  99fcc8a6-550f-47a1-b312-aba8a031f6c7             heart   \n",
       "24569  004e820e-49c3-4ba2-9d02-62db0065410c             heart   \n",
       "24570  a7849ef3-5930-4ba9-9cbe-e215811e713e             heart   \n",
       "24571  e5f1a4c6-2b27-4c8b-ac9a-21bb6ef7c946              want   \n",
       "24572  c59e27e9-0439-4699-8ea0-5e93f662a05d             adore   \n",
       "\n",
       "                  Datetime Sentiment  Score  \\\n",
       "0      2020-11-07 09:43:50  negative      0   \n",
       "1      2021-01-06 19:13:01  negative      0   \n",
       "2      2021-04-09 02:46:20  negative      0   \n",
       "3      2021-06-17 12:22:51  negative     10   \n",
       "4      2020-11-09 02:49:59  negative     10   \n",
       "...                    ...       ...    ...   \n",
       "24568  2021-02-26 15:33:26  positive     60   \n",
       "24569  2021-03-09 08:50:44  positive     60   \n",
       "24570  2020-09-26 22:01:17  positive     60   \n",
       "24571  2021-02-12 11:54:33  positive     70   \n",
       "24572  2021-02-02 15:29:19  positive     72   \n",
       "\n",
       "                        User ID_FromContent Type_FromContent  Category  \\\n",
       "0      8d3cd87d-8a31-4935-9a4f-b319bfe05f31            photo  Studying   \n",
       "1      8d3cd87d-8a31-4935-9a4f-b319bfe05f31            photo  Studying   \n",
       "2      8d3cd87d-8a31-4935-9a4f-b319bfe05f31            photo  Studying   \n",
       "3      8d3cd87d-8a31-4935-9a4f-b319bfe05f31            photo  Studying   \n",
       "4      8d3cd87d-8a31-4935-9a4f-b319bfe05f31            photo  Studying   \n",
       "...                                     ...              ...       ...   \n",
       "24568  084eb113-0d87-4ae5-891b-2ec7f1e194a8            video    travel   \n",
       "24569  9a5aca53-6263-485a-bf77-e60c4608fd26            audio    tennis   \n",
       "24570  d9aab962-e964-4afd-83ee-abda0865da67            photo  studying   \n",
       "24571  d27670c9-f85e-43e0-80a7-122cba908f10            audio    soccer   \n",
       "24572  fe15963d-0a77-4247-9bc6-04e146b826b2              GIF   fitness   \n",
       "\n",
       "                                                     URL  \n",
       "0      https://socialbuzz.cdn.com/content/storage/975...  \n",
       "1      https://socialbuzz.cdn.com/content/storage/975...  \n",
       "2      https://socialbuzz.cdn.com/content/storage/975...  \n",
       "3      https://socialbuzz.cdn.com/content/storage/975...  \n",
       "4      https://socialbuzz.cdn.com/content/storage/975...  \n",
       "...                                                  ...  \n",
       "24568  https://socialbuzz.cdn.com/content/storage/99f...  \n",
       "24569  https://socialbuzz.cdn.com/content/storage/004...  \n",
       "24570  https://socialbuzz.cdn.com/content/storage/a78...  \n",
       "24571                                                NaN  \n",
       "24572  https://socialbuzz.cdn.com/content/storage/c59...  \n",
       "\n",
       "[24573 rows x 9 columns]"
      ]
     },
     "execution_count": 6,
     "metadata": {},
     "output_type": "execute_result"
    }
   ],
   "source": [
    "df = df.drop(['Unnamed: 0_x','Unnamed: 0_y','Unnamed: 0','User ID_FromReaction'], axis=1)\n",
    "df"
   ]
  },
  {
   "cell_type": "markdown",
   "metadata": {},
   "source": [
    "### <font color=green>Rename columns</font>"
   ]
  },
  {
   "cell_type": "code",
   "execution_count": 7,
   "metadata": {},
   "outputs": [],
   "source": [
    "df.rename(columns={'User ID_FromContent': 'User ID', 'Type_FromContent': 'Content Type', 'Type_FromReaction': 'Reaction Type'}, inplace=True)"
   ]
  },
  {
   "cell_type": "markdown",
   "metadata": {},
   "source": [
    "### <font color=green>Check if Index is unique</font>"
   ]
  },
  {
   "cell_type": "code",
   "execution_count": 8,
   "metadata": {},
   "outputs": [
    {
     "name": "stdout",
     "output_type": "stream",
     "text": [
      "Content ID False\n",
      "Reaction Type False\n",
      "Datetime False\n",
      "Sentiment False\n",
      "Score False\n",
      "User ID False\n",
      "Content Type False\n",
      "Category False\n",
      "URL False\n"
     ]
    }
   ],
   "source": [
    "for a in list(df.columns):\n",
    "    print(a, df[a].is_unique)"
   ]
  },
  {
   "cell_type": "markdown",
   "metadata": {},
   "source": [
    "### <font color=green>Check for Null values</font>"
   ]
  },
  {
   "cell_type": "code",
   "execution_count": 9,
   "metadata": {},
   "outputs": [
    {
     "data": {
      "text/plain": [
       "Content ID          0\n",
       "Reaction Type       0\n",
       "Datetime            0\n",
       "Sentiment           0\n",
       "Score               0\n",
       "User ID             0\n",
       "Content Type        0\n",
       "Category            0\n",
       "URL              4517\n",
       "dtype: int64"
      ]
     },
     "execution_count": 9,
     "metadata": {},
     "output_type": "execute_result"
    }
   ],
   "source": [
    "df.isnull().sum()"
   ]
  },
  {
   "cell_type": "markdown",
   "metadata": {},
   "source": [
    "### <font color=green>Check for Na values</font>"
   ]
  },
  {
   "cell_type": "code",
   "execution_count": 10,
   "metadata": {},
   "outputs": [
    {
     "data": {
      "text/html": [
       "<div>\n",
       "<style scoped>\n",
       "    .dataframe tbody tr th:only-of-type {\n",
       "        vertical-align: middle;\n",
       "    }\n",
       "\n",
       "    .dataframe tbody tr th {\n",
       "        vertical-align: top;\n",
       "    }\n",
       "\n",
       "    .dataframe thead th {\n",
       "        text-align: right;\n",
       "    }\n",
       "</style>\n",
       "<table border=\"1\" class=\"dataframe\">\n",
       "  <thead>\n",
       "    <tr style=\"text-align: right;\">\n",
       "      <th></th>\n",
       "      <th>Content ID</th>\n",
       "      <th>Reaction Type</th>\n",
       "      <th>Datetime</th>\n",
       "      <th>Sentiment</th>\n",
       "      <th>Score</th>\n",
       "      <th>User ID</th>\n",
       "      <th>Content Type</th>\n",
       "      <th>Category</th>\n",
       "      <th>URL</th>\n",
       "    </tr>\n",
       "  </thead>\n",
       "  <tbody>\n",
       "    <tr>\n",
       "      <th>0</th>\n",
       "      <td>0</td>\n",
       "      <td>0</td>\n",
       "      <td>0</td>\n",
       "      <td>0</td>\n",
       "      <td>0</td>\n",
       "      <td>0</td>\n",
       "      <td>0</td>\n",
       "      <td>0</td>\n",
       "      <td>0</td>\n",
       "    </tr>\n",
       "    <tr>\n",
       "      <th>1</th>\n",
       "      <td>0</td>\n",
       "      <td>0</td>\n",
       "      <td>0</td>\n",
       "      <td>0</td>\n",
       "      <td>0</td>\n",
       "      <td>0</td>\n",
       "      <td>0</td>\n",
       "      <td>0</td>\n",
       "      <td>0</td>\n",
       "    </tr>\n",
       "    <tr>\n",
       "      <th>2</th>\n",
       "      <td>0</td>\n",
       "      <td>0</td>\n",
       "      <td>0</td>\n",
       "      <td>0</td>\n",
       "      <td>0</td>\n",
       "      <td>0</td>\n",
       "      <td>0</td>\n",
       "      <td>0</td>\n",
       "      <td>0</td>\n",
       "    </tr>\n",
       "    <tr>\n",
       "      <th>3</th>\n",
       "      <td>0</td>\n",
       "      <td>0</td>\n",
       "      <td>0</td>\n",
       "      <td>0</td>\n",
       "      <td>0</td>\n",
       "      <td>0</td>\n",
       "      <td>0</td>\n",
       "      <td>0</td>\n",
       "      <td>0</td>\n",
       "    </tr>\n",
       "    <tr>\n",
       "      <th>4</th>\n",
       "      <td>0</td>\n",
       "      <td>0</td>\n",
       "      <td>0</td>\n",
       "      <td>0</td>\n",
       "      <td>0</td>\n",
       "      <td>0</td>\n",
       "      <td>0</td>\n",
       "      <td>0</td>\n",
       "      <td>0</td>\n",
       "    </tr>\n",
       "    <tr>\n",
       "      <th>...</th>\n",
       "      <td>...</td>\n",
       "      <td>...</td>\n",
       "      <td>...</td>\n",
       "      <td>...</td>\n",
       "      <td>...</td>\n",
       "      <td>...</td>\n",
       "      <td>...</td>\n",
       "      <td>...</td>\n",
       "      <td>...</td>\n",
       "    </tr>\n",
       "    <tr>\n",
       "      <th>24568</th>\n",
       "      <td>0</td>\n",
       "      <td>0</td>\n",
       "      <td>0</td>\n",
       "      <td>0</td>\n",
       "      <td>0</td>\n",
       "      <td>0</td>\n",
       "      <td>0</td>\n",
       "      <td>0</td>\n",
       "      <td>4516</td>\n",
       "    </tr>\n",
       "    <tr>\n",
       "      <th>24569</th>\n",
       "      <td>0</td>\n",
       "      <td>0</td>\n",
       "      <td>0</td>\n",
       "      <td>0</td>\n",
       "      <td>0</td>\n",
       "      <td>0</td>\n",
       "      <td>0</td>\n",
       "      <td>0</td>\n",
       "      <td>4516</td>\n",
       "    </tr>\n",
       "    <tr>\n",
       "      <th>24570</th>\n",
       "      <td>0</td>\n",
       "      <td>0</td>\n",
       "      <td>0</td>\n",
       "      <td>0</td>\n",
       "      <td>0</td>\n",
       "      <td>0</td>\n",
       "      <td>0</td>\n",
       "      <td>0</td>\n",
       "      <td>4516</td>\n",
       "    </tr>\n",
       "    <tr>\n",
       "      <th>24571</th>\n",
       "      <td>0</td>\n",
       "      <td>0</td>\n",
       "      <td>0</td>\n",
       "      <td>0</td>\n",
       "      <td>0</td>\n",
       "      <td>0</td>\n",
       "      <td>0</td>\n",
       "      <td>0</td>\n",
       "      <td>4517</td>\n",
       "    </tr>\n",
       "    <tr>\n",
       "      <th>24572</th>\n",
       "      <td>0</td>\n",
       "      <td>0</td>\n",
       "      <td>0</td>\n",
       "      <td>0</td>\n",
       "      <td>0</td>\n",
       "      <td>0</td>\n",
       "      <td>0</td>\n",
       "      <td>0</td>\n",
       "      <td>4517</td>\n",
       "    </tr>\n",
       "  </tbody>\n",
       "</table>\n",
       "<p>24573 rows × 9 columns</p>\n",
       "</div>"
      ],
      "text/plain": [
       "       Content ID  Reaction Type  Datetime  Sentiment  Score  User ID  \\\n",
       "0               0              0         0          0      0        0   \n",
       "1               0              0         0          0      0        0   \n",
       "2               0              0         0          0      0        0   \n",
       "3               0              0         0          0      0        0   \n",
       "4               0              0         0          0      0        0   \n",
       "...           ...            ...       ...        ...    ...      ...   \n",
       "24568           0              0         0          0      0        0   \n",
       "24569           0              0         0          0      0        0   \n",
       "24570           0              0         0          0      0        0   \n",
       "24571           0              0         0          0      0        0   \n",
       "24572           0              0         0          0      0        0   \n",
       "\n",
       "       Content Type  Category   URL  \n",
       "0                 0         0     0  \n",
       "1                 0         0     0  \n",
       "2                 0         0     0  \n",
       "3                 0         0     0  \n",
       "4                 0         0     0  \n",
       "...             ...       ...   ...  \n",
       "24568             0         0  4516  \n",
       "24569             0         0  4516  \n",
       "24570             0         0  4516  \n",
       "24571             0         0  4517  \n",
       "24572             0         0  4517  \n",
       "\n",
       "[24573 rows x 9 columns]"
      ]
     },
     "execution_count": 10,
     "metadata": {},
     "output_type": "execute_result"
    }
   ],
   "source": [
    "df.isna().cumsum()"
   ]
  },
  {
   "cell_type": "markdown",
   "metadata": {},
   "source": [
    "### <font color=green>Check for Duplicated rows in the entire dataframe</font>"
   ]
  },
  {
   "cell_type": "code",
   "execution_count": 11,
   "metadata": {
    "scrolled": true
   },
   "outputs": [
    {
     "data": {
      "text/plain": [
       "0"
      ]
     },
     "execution_count": 11,
     "metadata": {},
     "output_type": "execute_result"
    }
   ],
   "source": [
    "df.duplicated(keep='first').sum()"
   ]
  },
  {
   "cell_type": "code",
   "execution_count": 12,
   "metadata": {
    "scrolled": true
   },
   "outputs": [
    {
     "data": {
      "text/plain": [
       "False    24573\n",
       "dtype: int64"
      ]
     },
     "execution_count": 12,
     "metadata": {},
     "output_type": "execute_result"
    }
   ],
   "source": [
    "df.duplicated(keep='first').value_counts()"
   ]
  },
  {
   "cell_type": "markdown",
   "metadata": {},
   "source": [
    "### <font color=green>Remove Duplicated rows in the entire dataset</font>"
   ]
  },
  {
   "cell_type": "code",
   "execution_count": 13,
   "metadata": {},
   "outputs": [],
   "source": [
    "df = df.drop_duplicates()"
   ]
  },
  {
   "cell_type": "code",
   "execution_count": 14,
   "metadata": {},
   "outputs": [
    {
     "data": {
      "text/plain": [
       "0"
      ]
     },
     "execution_count": 14,
     "metadata": {},
     "output_type": "execute_result"
    }
   ],
   "source": [
    "df.duplicated().sum()"
   ]
  },
  {
   "cell_type": "markdown",
   "metadata": {},
   "source": [
    "### <font color=green>Check for Duplicated values per column</font>"
   ]
  },
  {
   "cell_type": "code",
   "execution_count": 15,
   "metadata": {},
   "outputs": [
    {
     "name": "stdout",
     "output_type": "stream",
     "text": [
      "Content ID 23611\n",
      "Reaction Type 24557\n",
      "Datetime 11\n",
      "Sentiment 24570\n",
      "Score 24558\n",
      "User ID 24135\n",
      "Content Type 24569\n",
      "Category 24533\n",
      "URL 23800\n"
     ]
    }
   ],
   "source": [
    "for b in list(df.columns):\n",
    "    print(b, df.duplicated(subset=[b], keep='first').sum())\n"
   ]
  },
  {
   "cell_type": "markdown",
   "metadata": {},
   "source": [
    "### <font color=green>Check for Unique values per row</font>"
   ]
  },
  {
   "cell_type": "code",
   "execution_count": 16,
   "metadata": {},
   "outputs": [
    {
     "data": {
      "text/plain": [
       "Content ID         962\n",
       "Reaction Type       16\n",
       "Datetime         24562\n",
       "Sentiment            3\n",
       "Score               15\n",
       "User ID            438\n",
       "Content Type         4\n",
       "Category            40\n",
       "URL                773\n",
       "dtype: int64"
      ]
     },
     "execution_count": 16,
     "metadata": {},
     "output_type": "execute_result"
    }
   ],
   "source": [
    "df.nunique(dropna=False)"
   ]
  },
  {
   "cell_type": "markdown",
   "metadata": {},
   "source": [
    "### <font color=green>Print unique values for certain columns</font>"
   ]
  },
  {
   "cell_type": "code",
   "execution_count": 17,
   "metadata": {},
   "outputs": [
    {
     "data": {
      "text/plain": [
       "['Studying',\n",
       " 'healthy eating',\n",
       " 'dogs',\n",
       " 'public speaking',\n",
       " 'science',\n",
       " 'tennis',\n",
       " 'food',\n",
       " 'fitness',\n",
       " 'soccer',\n",
       " 'education',\n",
       " 'studying',\n",
       " 'travel',\n",
       " 'veganism',\n",
       " 'cooking',\n",
       " 'technology',\n",
       " 'animals',\n",
       " 'culture',\n",
       " 'Fitness',\n",
       " 'Veganism',\n",
       " '\"animals\"',\n",
       " 'Travel',\n",
       " '\"soccer\"',\n",
       " 'Animals',\n",
       " 'Education',\n",
       " '\"dogs\"',\n",
       " '\"culture\"',\n",
       " 'Soccer',\n",
       " 'Culture',\n",
       " 'Food',\n",
       " '\"technology\"',\n",
       " '\"cooking\"',\n",
       " '\"public speaking\"',\n",
       " 'Science',\n",
       " '\"veganism\"',\n",
       " 'Public Speaking',\n",
       " '\"science\"',\n",
       " '\"studying\"',\n",
       " '\"food\"',\n",
       " 'Healthy Eating',\n",
       " 'Technology']"
      ]
     },
     "execution_count": 17,
     "metadata": {},
     "output_type": "execute_result"
    }
   ],
   "source": [
    "[i for i in df['Category'].unique()]"
   ]
  },
  {
   "cell_type": "markdown",
   "metadata": {},
   "source": [
    "### <font color=green>Capitalize first letter of each word in a column</font>"
   ]
  },
  {
   "cell_type": "code",
   "execution_count": 18,
   "metadata": {},
   "outputs": [
    {
     "data": {
      "text/plain": [
       "['Studying',\n",
       " 'Healthy eating',\n",
       " 'Dogs',\n",
       " 'Public speaking',\n",
       " 'Science',\n",
       " 'Tennis',\n",
       " 'Food',\n",
       " 'Fitness',\n",
       " 'Soccer',\n",
       " 'Education',\n",
       " 'Travel',\n",
       " 'Veganism',\n",
       " 'Cooking',\n",
       " 'Technology',\n",
       " 'Animals',\n",
       " 'Culture']"
      ]
     },
     "execution_count": 18,
     "metadata": {},
     "output_type": "execute_result"
    }
   ],
   "source": [
    "df['Category'] = df['Category'].str.replace('\"','')\n",
    "df['Category'] = df['Category'].str.capitalize()\n",
    "[i for i in df['Category'].unique()]"
   ]
  },
  {
   "cell_type": "markdown",
   "metadata": {},
   "source": [
    "### <font color=green>Get sum of scores per category</font>"
   ]
  },
  {
   "cell_type": "code",
   "execution_count": 114,
   "metadata": {},
   "outputs": [
    {
     "data": {
      "text/html": [
       "<div>\n",
       "<style scoped>\n",
       "    .dataframe tbody tr th:only-of-type {\n",
       "        vertical-align: middle;\n",
       "    }\n",
       "\n",
       "    .dataframe tbody tr th {\n",
       "        vertical-align: top;\n",
       "    }\n",
       "\n",
       "    .dataframe thead th {\n",
       "        text-align: right;\n",
       "    }\n",
       "</style>\n",
       "<table border=\"1\" class=\"dataframe\">\n",
       "  <thead>\n",
       "    <tr style=\"text-align: right;\">\n",
       "      <th></th>\n",
       "      <th>Category</th>\n",
       "      <th>Score</th>\n",
       "    </tr>\n",
       "  </thead>\n",
       "  <tbody>\n",
       "    <tr>\n",
       "      <th>0</th>\n",
       "      <td>Animals</td>\n",
       "      <td>74965</td>\n",
       "    </tr>\n",
       "    <tr>\n",
       "      <th>1</th>\n",
       "      <td>Science</td>\n",
       "      <td>71168</td>\n",
       "    </tr>\n",
       "    <tr>\n",
       "      <th>2</th>\n",
       "      <td>Healthy eating</td>\n",
       "      <td>69339</td>\n",
       "    </tr>\n",
       "    <tr>\n",
       "      <th>3</th>\n",
       "      <td>Technology</td>\n",
       "      <td>68738</td>\n",
       "    </tr>\n",
       "    <tr>\n",
       "      <th>4</th>\n",
       "      <td>Food</td>\n",
       "      <td>66676</td>\n",
       "    </tr>\n",
       "    <tr>\n",
       "      <th>5</th>\n",
       "      <td>Culture</td>\n",
       "      <td>66579</td>\n",
       "    </tr>\n",
       "    <tr>\n",
       "      <th>6</th>\n",
       "      <td>Travel</td>\n",
       "      <td>64880</td>\n",
       "    </tr>\n",
       "    <tr>\n",
       "      <th>7</th>\n",
       "      <td>Cooking</td>\n",
       "      <td>64756</td>\n",
       "    </tr>\n",
       "    <tr>\n",
       "      <th>8</th>\n",
       "      <td>Soccer</td>\n",
       "      <td>57783</td>\n",
       "    </tr>\n",
       "  </tbody>\n",
       "</table>\n",
       "</div>"
      ],
      "text/plain": [
       "         Category  Score\n",
       "0         Animals  74965\n",
       "1         Science  71168\n",
       "2  Healthy eating  69339\n",
       "3      Technology  68738\n",
       "4            Food  66676\n",
       "5         Culture  66579\n",
       "6          Travel  64880\n",
       "7         Cooking  64756\n",
       "8          Soccer  57783"
      ]
     },
     "execution_count": 114,
     "metadata": {},
     "output_type": "execute_result"
    }
   ],
   "source": [
    "scores = df.groupby('Category')['Score'].sum()\n",
    "top5 = scores.sort_values(ascending=False)[:9]\n",
    "top5 = top5.reset_index()\n",
    "top5"
   ]
  },
  {
   "cell_type": "code",
   "execution_count": 115,
   "metadata": {},
   "outputs": [
    {
     "data": {
      "text/html": [
       "<div>\n",
       "<style scoped>\n",
       "    .dataframe tbody tr th:only-of-type {\n",
       "        vertical-align: middle;\n",
       "    }\n",
       "\n",
       "    .dataframe tbody tr th {\n",
       "        vertical-align: top;\n",
       "    }\n",
       "\n",
       "    .dataframe thead th {\n",
       "        text-align: right;\n",
       "    }\n",
       "</style>\n",
       "<table border=\"1\" class=\"dataframe\">\n",
       "  <thead>\n",
       "    <tr style=\"text-align: right;\">\n",
       "      <th></th>\n",
       "      <th>Category</th>\n",
       "      <th>Score</th>\n",
       "      <th>Percentage</th>\n",
       "    </tr>\n",
       "  </thead>\n",
       "  <tbody>\n",
       "    <tr>\n",
       "      <th>0</th>\n",
       "      <td>Animals</td>\n",
       "      <td>74965</td>\n",
       "      <td>7.699418</td>\n",
       "    </tr>\n",
       "    <tr>\n",
       "      <th>1</th>\n",
       "      <td>Science</td>\n",
       "      <td>71168</td>\n",
       "      <td>7.309440</td>\n",
       "    </tr>\n",
       "    <tr>\n",
       "      <th>2</th>\n",
       "      <td>Healthy eating</td>\n",
       "      <td>69339</td>\n",
       "      <td>7.121589</td>\n",
       "    </tr>\n",
       "    <tr>\n",
       "      <th>3</th>\n",
       "      <td>Technology</td>\n",
       "      <td>68738</td>\n",
       "      <td>7.059863</td>\n",
       "    </tr>\n",
       "    <tr>\n",
       "      <th>4</th>\n",
       "      <td>Food</td>\n",
       "      <td>66676</td>\n",
       "      <td>6.848081</td>\n",
       "    </tr>\n",
       "    <tr>\n",
       "      <th>5</th>\n",
       "      <td>Culture</td>\n",
       "      <td>66579</td>\n",
       "      <td>6.838119</td>\n",
       "    </tr>\n",
       "    <tr>\n",
       "      <th>6</th>\n",
       "      <td>Travel</td>\n",
       "      <td>64880</td>\n",
       "      <td>6.663620</td>\n",
       "    </tr>\n",
       "    <tr>\n",
       "      <th>7</th>\n",
       "      <td>Cooking</td>\n",
       "      <td>64756</td>\n",
       "      <td>6.650884</td>\n",
       "    </tr>\n",
       "    <tr>\n",
       "      <th>8</th>\n",
       "      <td>Soccer</td>\n",
       "      <td>57783</td>\n",
       "      <td>5.934709</td>\n",
       "    </tr>\n",
       "  </tbody>\n",
       "</table>\n",
       "</div>"
      ],
      "text/plain": [
       "         Category  Score  Percentage\n",
       "0         Animals  74965    7.699418\n",
       "1         Science  71168    7.309440\n",
       "2  Healthy eating  69339    7.121589\n",
       "3      Technology  68738    7.059863\n",
       "4            Food  66676    6.848081\n",
       "5         Culture  66579    6.838119\n",
       "6          Travel  64880    6.663620\n",
       "7         Cooking  64756    6.650884\n",
       "8          Soccer  57783    5.934709"
      ]
     },
     "execution_count": 115,
     "metadata": {},
     "output_type": "execute_result"
    }
   ],
   "source": [
    "top5['Percentage'] = top5['Score']/df['Score'].sum()*100\n",
    "top5"
   ]
  },
  {
   "cell_type": "markdown",
   "metadata": {},
   "source": [
    "### <font color=green>Export Dataframe</font>"
   ]
  },
  {
   "cell_type": "code",
   "execution_count": 20,
   "metadata": {},
   "outputs": [],
   "source": [
    "df.to_csv(r\"C:\\Users\\bongi\\OneDrive\\Bongiwe_Documents\\Academics\\Forage\\Task 1\\Data\\Dataframe.csv\")"
   ]
  },
  {
   "cell_type": "code",
   "execution_count": 21,
   "metadata": {},
   "outputs": [],
   "source": [
    "top5.to_csv(r\"C:\\Users\\bongi\\OneDrive\\Bongiwe_Documents\\Academics\\Forage\\Task 1\\Data\\5topScores.csv\")"
   ]
  },
  {
   "cell_type": "markdown",
   "metadata": {},
   "source": [
    "## **3. Description**\n",
    "___"
   ]
  },
  {
   "cell_type": "markdown",
   "metadata": {},
   "source": [
    "### <font color=green>Create a year, month and day </font>"
   ]
  },
  {
   "cell_type": "code",
   "execution_count": 22,
   "metadata": {},
   "outputs": [
    {
     "data": {
      "text/html": [
       "<div>\n",
       "<style scoped>\n",
       "    .dataframe tbody tr th:only-of-type {\n",
       "        vertical-align: middle;\n",
       "    }\n",
       "\n",
       "    .dataframe tbody tr th {\n",
       "        vertical-align: top;\n",
       "    }\n",
       "\n",
       "    .dataframe thead th {\n",
       "        text-align: right;\n",
       "    }\n",
       "</style>\n",
       "<table border=\"1\" class=\"dataframe\">\n",
       "  <thead>\n",
       "    <tr style=\"text-align: right;\">\n",
       "      <th></th>\n",
       "      <th>0</th>\n",
       "      <th>1</th>\n",
       "      <th>2</th>\n",
       "    </tr>\n",
       "  </thead>\n",
       "  <tbody>\n",
       "    <tr>\n",
       "      <th>0</th>\n",
       "      <td>2020</td>\n",
       "      <td>11</td>\n",
       "      <td>07 09:43:50</td>\n",
       "    </tr>\n",
       "    <tr>\n",
       "      <th>1</th>\n",
       "      <td>2021</td>\n",
       "      <td>01</td>\n",
       "      <td>06 19:13:01</td>\n",
       "    </tr>\n",
       "    <tr>\n",
       "      <th>2</th>\n",
       "      <td>2021</td>\n",
       "      <td>04</td>\n",
       "      <td>09 02:46:20</td>\n",
       "    </tr>\n",
       "    <tr>\n",
       "      <th>3</th>\n",
       "      <td>2021</td>\n",
       "      <td>06</td>\n",
       "      <td>17 12:22:51</td>\n",
       "    </tr>\n",
       "    <tr>\n",
       "      <th>4</th>\n",
       "      <td>2020</td>\n",
       "      <td>11</td>\n",
       "      <td>09 02:49:59</td>\n",
       "    </tr>\n",
       "    <tr>\n",
       "      <th>...</th>\n",
       "      <td>...</td>\n",
       "      <td>...</td>\n",
       "      <td>...</td>\n",
       "    </tr>\n",
       "    <tr>\n",
       "      <th>24568</th>\n",
       "      <td>2021</td>\n",
       "      <td>02</td>\n",
       "      <td>26 15:33:26</td>\n",
       "    </tr>\n",
       "    <tr>\n",
       "      <th>24569</th>\n",
       "      <td>2021</td>\n",
       "      <td>03</td>\n",
       "      <td>09 08:50:44</td>\n",
       "    </tr>\n",
       "    <tr>\n",
       "      <th>24570</th>\n",
       "      <td>2020</td>\n",
       "      <td>09</td>\n",
       "      <td>26 22:01:17</td>\n",
       "    </tr>\n",
       "    <tr>\n",
       "      <th>24571</th>\n",
       "      <td>2021</td>\n",
       "      <td>02</td>\n",
       "      <td>12 11:54:33</td>\n",
       "    </tr>\n",
       "    <tr>\n",
       "      <th>24572</th>\n",
       "      <td>2021</td>\n",
       "      <td>02</td>\n",
       "      <td>02 15:29:19</td>\n",
       "    </tr>\n",
       "  </tbody>\n",
       "</table>\n",
       "<p>24573 rows × 3 columns</p>\n",
       "</div>"
      ],
      "text/plain": [
       "          0   1            2\n",
       "0      2020  11  07 09:43:50\n",
       "1      2021  01  06 19:13:01\n",
       "2      2021  04  09 02:46:20\n",
       "3      2021  06  17 12:22:51\n",
       "4      2020  11  09 02:49:59\n",
       "...     ...  ..          ...\n",
       "24568  2021  02  26 15:33:26\n",
       "24569  2021  03  09 08:50:44\n",
       "24570  2020  09  26 22:01:17\n",
       "24571  2021  02  12 11:54:33\n",
       "24572  2021  02  02 15:29:19\n",
       "\n",
       "[24573 rows x 3 columns]"
      ]
     },
     "execution_count": 22,
     "metadata": {},
     "output_type": "execute_result"
    }
   ],
   "source": [
    "#Split the 'Datetime' column into three columns\n",
    "YearMonth = df['Datetime'].str.split(\"-\",expand=True)\n",
    "YearMonth"
   ]
  },
  {
   "cell_type": "markdown",
   "metadata": {},
   "source": [
    "### <font color=green>Add year, month and day to dataset</font>"
   ]
  },
  {
   "cell_type": "code",
   "execution_count": 23,
   "metadata": {},
   "outputs": [],
   "source": [
    "#Add a 'Year' column to the dataframe\n",
    "df['Year'] = YearMonth[0]\n",
    "\n",
    "#Add a 'Month' column to the dataframe\n",
    "df['Month'] = YearMonth[1]\n",
    "\n",
    "#Add a 'Day' column to the dataframe\n",
    "Day = YearMonth[2].str.split(\" \",expand=True)\n",
    "df['Day'] = Day[0]"
   ]
  },
  {
   "cell_type": "markdown",
   "metadata": {},
   "source": [
    "### <font color=green>Groupby categories by months  </font>"
   ]
  },
  {
   "cell_type": "code",
   "execution_count": 24,
   "metadata": {},
   "outputs": [
    {
     "data": {
      "text/html": [
       "<div>\n",
       "<style scoped>\n",
       "    .dataframe tbody tr th:only-of-type {\n",
       "        vertical-align: middle;\n",
       "    }\n",
       "\n",
       "    .dataframe tbody tr th {\n",
       "        vertical-align: top;\n",
       "    }\n",
       "\n",
       "    .dataframe thead th {\n",
       "        text-align: right;\n",
       "    }\n",
       "</style>\n",
       "<table border=\"1\" class=\"dataframe\">\n",
       "  <thead>\n",
       "    <tr style=\"text-align: right;\">\n",
       "      <th></th>\n",
       "      <th>Category</th>\n",
       "      <th>Year</th>\n",
       "      <th>Month</th>\n",
       "      <th>Score</th>\n",
       "    </tr>\n",
       "  </thead>\n",
       "  <tbody>\n",
       "    <tr>\n",
       "      <th>0</th>\n",
       "      <td>Animals</td>\n",
       "      <td>2020</td>\n",
       "      <td>06</td>\n",
       "      <td>3452</td>\n",
       "    </tr>\n",
       "    <tr>\n",
       "      <th>1</th>\n",
       "      <td>Animals</td>\n",
       "      <td>2020</td>\n",
       "      <td>07</td>\n",
       "      <td>4820</td>\n",
       "    </tr>\n",
       "    <tr>\n",
       "      <th>2</th>\n",
       "      <td>Animals</td>\n",
       "      <td>2020</td>\n",
       "      <td>08</td>\n",
       "      <td>5765</td>\n",
       "    </tr>\n",
       "    <tr>\n",
       "      <th>3</th>\n",
       "      <td>Animals</td>\n",
       "      <td>2020</td>\n",
       "      <td>09</td>\n",
       "      <td>6138</td>\n",
       "    </tr>\n",
       "    <tr>\n",
       "      <th>4</th>\n",
       "      <td>Animals</td>\n",
       "      <td>2020</td>\n",
       "      <td>10</td>\n",
       "      <td>6271</td>\n",
       "    </tr>\n",
       "    <tr>\n",
       "      <th>...</th>\n",
       "      <td>...</td>\n",
       "      <td>...</td>\n",
       "      <td>...</td>\n",
       "      <td>...</td>\n",
       "    </tr>\n",
       "    <tr>\n",
       "      <th>203</th>\n",
       "      <td>Veganism</td>\n",
       "      <td>2021</td>\n",
       "      <td>02</td>\n",
       "      <td>3626</td>\n",
       "    </tr>\n",
       "    <tr>\n",
       "      <th>204</th>\n",
       "      <td>Veganism</td>\n",
       "      <td>2021</td>\n",
       "      <td>03</td>\n",
       "      <td>3637</td>\n",
       "    </tr>\n",
       "    <tr>\n",
       "      <th>205</th>\n",
       "      <td>Veganism</td>\n",
       "      <td>2021</td>\n",
       "      <td>04</td>\n",
       "      <td>4930</td>\n",
       "    </tr>\n",
       "    <tr>\n",
       "      <th>206</th>\n",
       "      <td>Veganism</td>\n",
       "      <td>2021</td>\n",
       "      <td>05</td>\n",
       "      <td>4184</td>\n",
       "    </tr>\n",
       "    <tr>\n",
       "      <th>207</th>\n",
       "      <td>Veganism</td>\n",
       "      <td>2021</td>\n",
       "      <td>06</td>\n",
       "      <td>1680</td>\n",
       "    </tr>\n",
       "  </tbody>\n",
       "</table>\n",
       "<p>208 rows × 4 columns</p>\n",
       "</div>"
      ],
      "text/plain": [
       "     Category  Year Month  Score\n",
       "0     Animals  2020    06   3452\n",
       "1     Animals  2020    07   4820\n",
       "2     Animals  2020    08   5765\n",
       "3     Animals  2020    09   6138\n",
       "4     Animals  2020    10   6271\n",
       "..        ...   ...   ...    ...\n",
       "203  Veganism  2021    02   3626\n",
       "204  Veganism  2021    03   3637\n",
       "205  Veganism  2021    04   4930\n",
       "206  Veganism  2021    05   4184\n",
       "207  Veganism  2021    06   1680\n",
       "\n",
       "[208 rows x 4 columns]"
      ]
     },
     "execution_count": 24,
     "metadata": {},
     "output_type": "execute_result"
    }
   ],
   "source": [
    "#(1) Group dataframe by 'Category', 'Year' and 'Month', (2) sum the scores, and (3) create a new dataframe\n",
    "category_score_monthly = df.groupby(['Category','Year','Month'])['Score'].sum()\n",
    "\n",
    "#reset the index\n",
    "category_score_monthly = category_score_monthly.reset_index()\n",
    "category_score_monthly"
   ]
  },
  {
   "cell_type": "markdown",
   "metadata": {},
   "source": [
    "### <font color=green>Animal trend  </font>"
   ]
  },
  {
   "cell_type": "code",
   "execution_count": 64,
   "metadata": {
    "scrolled": true
   },
   "outputs": [
    {
     "name": "stderr",
     "output_type": "stream",
     "text": [
      "C:\\Users\\bongi\\AppData\\Local\\Temp\\ipykernel_3404\\4054841844.py:3: SettingWithCopyWarning: \n",
      "A value is trying to be set on a copy of a slice from a DataFrame.\n",
      "Try using .loc[row_indexer,col_indexer] = value instead\n",
      "\n",
      "See the caveats in the documentation: https://pandas.pydata.org/pandas-docs/stable/user_guide/indexing.html#returning-a-view-versus-a-copy\n",
      "  animals['Period'] = animals[['Year','Month']].agg('-'.join, axis=1)\n"
     ]
    },
    {
     "data": {
      "text/html": [
       "<div>\n",
       "<style scoped>\n",
       "    .dataframe tbody tr th:only-of-type {\n",
       "        vertical-align: middle;\n",
       "    }\n",
       "\n",
       "    .dataframe tbody tr th {\n",
       "        vertical-align: top;\n",
       "    }\n",
       "\n",
       "    .dataframe thead th {\n",
       "        text-align: right;\n",
       "    }\n",
       "</style>\n",
       "<table border=\"1\" class=\"dataframe\">\n",
       "  <thead>\n",
       "    <tr style=\"text-align: right;\">\n",
       "      <th></th>\n",
       "      <th>Category</th>\n",
       "      <th>Year</th>\n",
       "      <th>Month</th>\n",
       "      <th>Score</th>\n",
       "      <th>Period</th>\n",
       "    </tr>\n",
       "  </thead>\n",
       "  <tbody>\n",
       "    <tr>\n",
       "      <th>0</th>\n",
       "      <td>Animals</td>\n",
       "      <td>2020</td>\n",
       "      <td>06</td>\n",
       "      <td>3452</td>\n",
       "      <td>2020-06</td>\n",
       "    </tr>\n",
       "    <tr>\n",
       "      <th>1</th>\n",
       "      <td>Animals</td>\n",
       "      <td>2020</td>\n",
       "      <td>07</td>\n",
       "      <td>4820</td>\n",
       "      <td>2020-07</td>\n",
       "    </tr>\n",
       "    <tr>\n",
       "      <th>2</th>\n",
       "      <td>Animals</td>\n",
       "      <td>2020</td>\n",
       "      <td>08</td>\n",
       "      <td>5765</td>\n",
       "      <td>2020-08</td>\n",
       "    </tr>\n",
       "    <tr>\n",
       "      <th>3</th>\n",
       "      <td>Animals</td>\n",
       "      <td>2020</td>\n",
       "      <td>09</td>\n",
       "      <td>6138</td>\n",
       "      <td>2020-09</td>\n",
       "    </tr>\n",
       "    <tr>\n",
       "      <th>4</th>\n",
       "      <td>Animals</td>\n",
       "      <td>2020</td>\n",
       "      <td>10</td>\n",
       "      <td>6271</td>\n",
       "      <td>2020-10</td>\n",
       "    </tr>\n",
       "    <tr>\n",
       "      <th>5</th>\n",
       "      <td>Animals</td>\n",
       "      <td>2020</td>\n",
       "      <td>11</td>\n",
       "      <td>7023</td>\n",
       "      <td>2020-11</td>\n",
       "    </tr>\n",
       "    <tr>\n",
       "      <th>6</th>\n",
       "      <td>Animals</td>\n",
       "      <td>2020</td>\n",
       "      <td>12</td>\n",
       "      <td>6477</td>\n",
       "      <td>2020-12</td>\n",
       "    </tr>\n",
       "    <tr>\n",
       "      <th>7</th>\n",
       "      <td>Animals</td>\n",
       "      <td>2021</td>\n",
       "      <td>01</td>\n",
       "      <td>7072</td>\n",
       "      <td>2021-01</td>\n",
       "    </tr>\n",
       "    <tr>\n",
       "      <th>8</th>\n",
       "      <td>Animals</td>\n",
       "      <td>2021</td>\n",
       "      <td>02</td>\n",
       "      <td>5376</td>\n",
       "      <td>2021-02</td>\n",
       "    </tr>\n",
       "    <tr>\n",
       "      <th>9</th>\n",
       "      <td>Animals</td>\n",
       "      <td>2021</td>\n",
       "      <td>03</td>\n",
       "      <td>5202</td>\n",
       "      <td>2021-03</td>\n",
       "    </tr>\n",
       "    <tr>\n",
       "      <th>10</th>\n",
       "      <td>Animals</td>\n",
       "      <td>2021</td>\n",
       "      <td>04</td>\n",
       "      <td>6246</td>\n",
       "      <td>2021-04</td>\n",
       "    </tr>\n",
       "    <tr>\n",
       "      <th>11</th>\n",
       "      <td>Animals</td>\n",
       "      <td>2021</td>\n",
       "      <td>05</td>\n",
       "      <td>7377</td>\n",
       "      <td>2021-05</td>\n",
       "    </tr>\n",
       "    <tr>\n",
       "      <th>12</th>\n",
       "      <td>Animals</td>\n",
       "      <td>2021</td>\n",
       "      <td>06</td>\n",
       "      <td>3746</td>\n",
       "      <td>2021-06</td>\n",
       "    </tr>\n",
       "  </tbody>\n",
       "</table>\n",
       "</div>"
      ],
      "text/plain": [
       "   Category  Year Month  Score   Period\n",
       "0   Animals  2020    06   3452  2020-06\n",
       "1   Animals  2020    07   4820  2020-07\n",
       "2   Animals  2020    08   5765  2020-08\n",
       "3   Animals  2020    09   6138  2020-09\n",
       "4   Animals  2020    10   6271  2020-10\n",
       "5   Animals  2020    11   7023  2020-11\n",
       "6   Animals  2020    12   6477  2020-12\n",
       "7   Animals  2021    01   7072  2021-01\n",
       "8   Animals  2021    02   5376  2021-02\n",
       "9   Animals  2021    03   5202  2021-03\n",
       "10  Animals  2021    04   6246  2021-04\n",
       "11  Animals  2021    05   7377  2021-05\n",
       "12  Animals  2021    06   3746  2021-06"
      ]
     },
     "execution_count": 64,
     "metadata": {},
     "output_type": "execute_result"
    }
   ],
   "source": [
    "#Animal - group category by 'Year' and 'Month'\n",
    "animals = category_score_monthly[category_score_monthly['Category']==top5.iloc[0,0]]\n",
    "\n",
    "#Animal - create a new moth-year column named 'Period'\n",
    "animals['Period'] = animals[['Year','Month']].agg('-'.join, axis=1)\n",
    "animals"
   ]
  },
  {
   "cell_type": "code",
   "execution_count": 80,
   "metadata": {
    "scrolled": true
   },
   "outputs": [
    {
     "data": {
      "image/png": "[encoded data removed]",
      "text/plain": [
       "<Figure size 640x480 with 1 Axes>"
      ]
     },
     "metadata": {},
     "output_type": "display_data"
    }
   ],
   "source": [
    "#create line graph\n",
    "plt.figure(1)\n",
    "\n",
    "#define line graph\n",
    "plt.plot(animals['Period'], animals['Score'], color='red', marker='+')\n",
    "\n",
    "#title\n",
    "plt.title('Score trend for Animal category', fontsize=18, weight='semibold',pad=25, family='Arial')\n",
    "\n",
    "#x and y labels\n",
    "plt.xlabel('Year-Month', fontsize=14, weight='semibold', labelpad=18, family='Arial')\n",
    "plt.ylabel('Score', fontsize=14, weight='semibold', labelpad=18, family='Arial')\n",
    "\n",
    "#vertical labels on x-axis\n",
    "plt.xticks(rotation=90)\n",
    "\n",
    "#show grid lines\n",
    "plt.grid(True, color='grey', linestyle='--', linewidth = 0.1)\n",
    "\n",
    "#show line graph\n",
    "plt.show()"
   ]
  },
  {
   "cell_type": "markdown",
   "metadata": {},
   "source": [
    "### <font color=green>Science trend  </font>"
   ]
  },
  {
   "cell_type": "code",
   "execution_count": null,
   "metadata": {
    "scrolled": true
   },
   "outputs": [],
   "source": [
    "#Science - group category by 'Year' and 'Month'\n",
    "science = category_score_monthly[category_score_monthly['Category']==top5.iloc[1,0]]\n",
    "\n",
    "#Science - create a new moth-year column named 'Period'\n",
    "science['Period'] = science[['Year','Month']].agg('-'.join, axis=1)\n",
    "science"
   ]
  },
  {
   "cell_type": "code",
   "execution_count": 78,
   "metadata": {
    "scrolled": true
   },
   "outputs": [
    {
     "data": {
      "image/png": "[encoded data removed]",
      "text/plain": [
       "<Figure size 640x480 with 1 Axes>"
      ]
     },
     "metadata": {},
     "output_type": "display_data"
    }
   ],
   "source": [
    "#create line graph\n",
    "plt.figure(2)\n",
    "\n",
    "#define line graph\n",
    "plt.plot(science['Period'], science['Score'], color='blue', marker='+')\n",
    "\n",
    "#title\n",
    "plt.title('Score trend for Science category', fontsize=18, weight='semibold',pad=25, family='Arial')\n",
    "\n",
    "#x and y labels\n",
    "plt.xlabel('Year-Month', fontsize=14, weight='semibold', labelpad=18, family='Arial')\n",
    "plt.ylabel('Score', fontsize=14, weight='semibold', labelpad=18, family='Arial')\n",
    "\n",
    "#vertical labels on x-axis\n",
    "plt.xticks(rotation=90)\n",
    "\n",
    "#show grid lines\n",
    "plt.grid(True, color='grey', linestyle='--', linewidth = 0.1)\n",
    "\n",
    "#show line graph\n",
    "plt.show()"
   ]
  },
  {
   "cell_type": "markdown",
   "metadata": {},
   "source": [
    "### <font color=green>Healthy Eating trend  </font>"
   ]
  },
  {
   "cell_type": "code",
   "execution_count": null,
   "metadata": {
    "scrolled": false
   },
   "outputs": [],
   "source": [
    "#Healthy Eating - group category by 'Year' and 'Month'\n",
    "healthy_eating = category_score_monthly[category_score_monthly['Category']==top5.iloc[2,0]]\n",
    "\n",
    "#Healthy Eating - create a new moth-year column named 'Period'\n",
    "healthy_eating['Period'] = healthy_eating[['Year','Month']].agg('-'.join, axis=1)\n",
    "healthy_eating"
   ]
  },
  {
   "cell_type": "code",
   "execution_count": 79,
   "metadata": {
    "scrolled": true
   },
   "outputs": [
    {
     "data": {
      "image/png": "[encoded data removed]",
      "text/plain": [
       "<Figure size 640x480 with 1 Axes>"
      ]
     },
     "metadata": {},
     "output_type": "display_data"
    }
   ],
   "source": [
    "#create line graph\n",
    "plt.figure(3)\n",
    "\n",
    "#define line graph\n",
    "plt.plot(healthy_eating['Period'], healthy_eating['Score'], color='green', marker='+')\n",
    "\n",
    "#title\n",
    "plt.title('Score trend for Healthy Eating category', fontsize=18, weight='semibold',pad=25, family='Arial')\n",
    "\n",
    "#x and y labels\n",
    "plt.xlabel('Year-Month', fontsize=14, weight='semibold', labelpad=18, family='Arial')\n",
    "plt.ylabel('Score', fontsize=14, weight='semibold', labelpad=18, family='Arial')\n",
    "\n",
    "#vertical labels on x-axis\n",
    "plt.xticks(rotation=90)\n",
    "\n",
    "#show grid lines\n",
    "plt.grid(True, color='grey', linestyle='--', linewidth = 0.1)\n",
    "\n",
    "#show line graph\n",
    "plt.show()"
   ]
  },
  {
   "cell_type": "markdown",
   "metadata": {},
   "source": [
    "### <font color=green>Technology trend  </font>"
   ]
  },
  {
   "cell_type": "code",
   "execution_count": 36,
   "metadata": {},
   "outputs": [
    {
     "name": "stderr",
     "output_type": "stream",
     "text": [
      "C:\\Users\\bongi\\AppData\\Local\\Temp\\ipykernel_3404\\3405162487.py:2: SettingWithCopyWarning: \n",
      "A value is trying to be set on a copy of a slice from a DataFrame.\n",
      "Try using .loc[row_indexer,col_indexer] = value instead\n",
      "\n",
      "See the caveats in the documentation: https://pandas.pydata.org/pandas-docs/stable/user_guide/indexing.html#returning-a-view-versus-a-copy\n",
      "  technology['Period'] = technology[['Year','Month']].agg('-'.join, axis=1)\n"
     ]
    },
    {
     "data": {
      "text/html": [
       "<div>\n",
       "<style scoped>\n",
       "    .dataframe tbody tr th:only-of-type {\n",
       "        vertical-align: middle;\n",
       "    }\n",
       "\n",
       "    .dataframe tbody tr th {\n",
       "        vertical-align: top;\n",
       "    }\n",
       "\n",
       "    .dataframe thead th {\n",
       "        text-align: right;\n",
       "    }\n",
       "</style>\n",
       "<table border=\"1\" class=\"dataframe\">\n",
       "  <thead>\n",
       "    <tr style=\"text-align: right;\">\n",
       "      <th></th>\n",
       "      <th>Category</th>\n",
       "      <th>Year</th>\n",
       "      <th>Month</th>\n",
       "      <th>Score</th>\n",
       "      <th>Period</th>\n",
       "    </tr>\n",
       "  </thead>\n",
       "  <tbody>\n",
       "    <tr>\n",
       "      <th>156</th>\n",
       "      <td>Technology</td>\n",
       "      <td>2020</td>\n",
       "      <td>06</td>\n",
       "      <td>2047</td>\n",
       "      <td>2020-06</td>\n",
       "    </tr>\n",
       "    <tr>\n",
       "      <th>157</th>\n",
       "      <td>Technology</td>\n",
       "      <td>2020</td>\n",
       "      <td>07</td>\n",
       "      <td>6885</td>\n",
       "      <td>2020-07</td>\n",
       "    </tr>\n",
       "    <tr>\n",
       "      <th>158</th>\n",
       "      <td>Technology</td>\n",
       "      <td>2020</td>\n",
       "      <td>08</td>\n",
       "      <td>5322</td>\n",
       "      <td>2020-08</td>\n",
       "    </tr>\n",
       "    <tr>\n",
       "      <th>159</th>\n",
       "      <td>Technology</td>\n",
       "      <td>2020</td>\n",
       "      <td>09</td>\n",
       "      <td>5964</td>\n",
       "      <td>2020-09</td>\n",
       "    </tr>\n",
       "    <tr>\n",
       "      <th>160</th>\n",
       "      <td>Technology</td>\n",
       "      <td>2020</td>\n",
       "      <td>10</td>\n",
       "      <td>5548</td>\n",
       "      <td>2020-10</td>\n",
       "    </tr>\n",
       "    <tr>\n",
       "      <th>161</th>\n",
       "      <td>Technology</td>\n",
       "      <td>2020</td>\n",
       "      <td>11</td>\n",
       "      <td>5307</td>\n",
       "      <td>2020-11</td>\n",
       "    </tr>\n",
       "    <tr>\n",
       "      <th>162</th>\n",
       "      <td>Technology</td>\n",
       "      <td>2020</td>\n",
       "      <td>12</td>\n",
       "      <td>4749</td>\n",
       "      <td>2020-12</td>\n",
       "    </tr>\n",
       "    <tr>\n",
       "      <th>163</th>\n",
       "      <td>Technology</td>\n",
       "      <td>2021</td>\n",
       "      <td>01</td>\n",
       "      <td>5624</td>\n",
       "      <td>2021-01</td>\n",
       "    </tr>\n",
       "    <tr>\n",
       "      <th>164</th>\n",
       "      <td>Technology</td>\n",
       "      <td>2021</td>\n",
       "      <td>02</td>\n",
       "      <td>6453</td>\n",
       "      <td>2021-02</td>\n",
       "    </tr>\n",
       "    <tr>\n",
       "      <th>165</th>\n",
       "      <td>Technology</td>\n",
       "      <td>2021</td>\n",
       "      <td>03</td>\n",
       "      <td>5147</td>\n",
       "      <td>2021-03</td>\n",
       "    </tr>\n",
       "    <tr>\n",
       "      <th>166</th>\n",
       "      <td>Technology</td>\n",
       "      <td>2021</td>\n",
       "      <td>04</td>\n",
       "      <td>6677</td>\n",
       "      <td>2021-04</td>\n",
       "    </tr>\n",
       "    <tr>\n",
       "      <th>167</th>\n",
       "      <td>Technology</td>\n",
       "      <td>2021</td>\n",
       "      <td>05</td>\n",
       "      <td>5281</td>\n",
       "      <td>2021-05</td>\n",
       "    </tr>\n",
       "    <tr>\n",
       "      <th>168</th>\n",
       "      <td>Technology</td>\n",
       "      <td>2021</td>\n",
       "      <td>06</td>\n",
       "      <td>3734</td>\n",
       "      <td>2021-06</td>\n",
       "    </tr>\n",
       "  </tbody>\n",
       "</table>\n",
       "</div>"
      ],
      "text/plain": [
       "       Category  Year Month  Score   Period\n",
       "156  Technology  2020    06   2047  2020-06\n",
       "157  Technology  2020    07   6885  2020-07\n",
       "158  Technology  2020    08   5322  2020-08\n",
       "159  Technology  2020    09   5964  2020-09\n",
       "160  Technology  2020    10   5548  2020-10\n",
       "161  Technology  2020    11   5307  2020-11\n",
       "162  Technology  2020    12   4749  2020-12\n",
       "163  Technology  2021    01   5624  2021-01\n",
       "164  Technology  2021    02   6453  2021-02\n",
       "165  Technology  2021    03   5147  2021-03\n",
       "166  Technology  2021    04   6677  2021-04\n",
       "167  Technology  2021    05   5281  2021-05\n",
       "168  Technology  2021    06   3734  2021-06"
      ]
     },
     "execution_count": 36,
     "metadata": {},
     "output_type": "execute_result"
    }
   ],
   "source": [
    "#Technology - group category by 'Year' and 'Month'\n",
    "technology = category_score_monthly[category_score_monthly['Category']==top5.iloc[3,0]]\n",
    "\n",
    "#Technology - create a new moth-year column named 'Period'\n",
    "technology['Period'] = technology[['Year','Month']].agg('-'.join, axis=1)\n",
    "technology"
   ]
  },
  {
   "cell_type": "code",
   "execution_count": 56,
   "metadata": {
    "scrolled": false
   },
   "outputs": [
    {
     "data": {
      "image/png": "[encoded data removed]",
      "text/plain": [
       "<Figure size 640x480 with 1 Axes>"
      ]
     },
     "metadata": {},
     "output_type": "display_data"
    }
   ],
   "source": [
    "#create line graph\n",
    "plt.figure(4)\n",
    "\n",
    "#define line graph\n",
    "plt.plot(technology['Period'], technology['Score'], color='orange', marker='+')\n",
    "\n",
    "#title\n",
    "plt.title('Score trend for Technology category', fontsize=18, weight='semibold',pad=25, family='Arial')\n",
    "\n",
    "#x and y labels\n",
    "plt.xlabel('Year-Month', fontsize=14, weight='semibold', labelpad=18, family='Arial')\n",
    "plt.ylabel('Score', fontsize=14, weight='semibold', labelpad=18, family='Arial')\n",
    "\n",
    "#vertical labels on x-axis\n",
    "plt.xticks(rotation=90)\n",
    "\n",
    "#show grid lines\n",
    "plt.grid(True, color='grey', linestyle='--', linewidth = 0.1)\n",
    "\n",
    "#show line graph\n",
    "plt.show()"
   ]
  },
  {
   "cell_type": "markdown",
   "metadata": {},
   "source": [
    "### <font color=green>Food trend  </font>"
   ]
  },
  {
   "cell_type": "code",
   "execution_count": 39,
   "metadata": {
    "scrolled": true
   },
   "outputs": [
    {
     "name": "stderr",
     "output_type": "stream",
     "text": [
      "C:\\Users\\bongi\\AppData\\Local\\Temp\\ipykernel_3404\\4054257650.py:3: SettingWithCopyWarning: \n",
      "A value is trying to be set on a copy of a slice from a DataFrame.\n",
      "Try using .loc[row_indexer,col_indexer] = value instead\n",
      "\n",
      "See the caveats in the documentation: https://pandas.pydata.org/pandas-docs/stable/user_guide/indexing.html#returning-a-view-versus-a-copy\n",
      "  food['Period'] = food[['Year','Month']].agg('-'.join, axis=1)\n"
     ]
    },
    {
     "data": {
      "text/html": [
       "<div>\n",
       "<style scoped>\n",
       "    .dataframe tbody tr th:only-of-type {\n",
       "        vertical-align: middle;\n",
       "    }\n",
       "\n",
       "    .dataframe tbody tr th {\n",
       "        vertical-align: top;\n",
       "    }\n",
       "\n",
       "    .dataframe thead th {\n",
       "        text-align: right;\n",
       "    }\n",
       "</style>\n",
       "<table border=\"1\" class=\"dataframe\">\n",
       "  <thead>\n",
       "    <tr style=\"text-align: right;\">\n",
       "      <th></th>\n",
       "      <th>Category</th>\n",
       "      <th>Year</th>\n",
       "      <th>Month</th>\n",
       "      <th>Score</th>\n",
       "      <th>Period</th>\n",
       "    </tr>\n",
       "  </thead>\n",
       "  <tbody>\n",
       "    <tr>\n",
       "      <th>78</th>\n",
       "      <td>Food</td>\n",
       "      <td>2020</td>\n",
       "      <td>06</td>\n",
       "      <td>1962</td>\n",
       "      <td>2020-06</td>\n",
       "    </tr>\n",
       "    <tr>\n",
       "      <th>79</th>\n",
       "      <td>Food</td>\n",
       "      <td>2020</td>\n",
       "      <td>07</td>\n",
       "      <td>5247</td>\n",
       "      <td>2020-07</td>\n",
       "    </tr>\n",
       "    <tr>\n",
       "      <th>80</th>\n",
       "      <td>Food</td>\n",
       "      <td>2020</td>\n",
       "      <td>08</td>\n",
       "      <td>5942</td>\n",
       "      <td>2020-08</td>\n",
       "    </tr>\n",
       "    <tr>\n",
       "      <th>81</th>\n",
       "      <td>Food</td>\n",
       "      <td>2020</td>\n",
       "      <td>09</td>\n",
       "      <td>4939</td>\n",
       "      <td>2020-09</td>\n",
       "    </tr>\n",
       "    <tr>\n",
       "      <th>82</th>\n",
       "      <td>Food</td>\n",
       "      <td>2020</td>\n",
       "      <td>10</td>\n",
       "      <td>6183</td>\n",
       "      <td>2020-10</td>\n",
       "    </tr>\n",
       "    <tr>\n",
       "      <th>83</th>\n",
       "      <td>Food</td>\n",
       "      <td>2020</td>\n",
       "      <td>11</td>\n",
       "      <td>6307</td>\n",
       "      <td>2020-11</td>\n",
       "    </tr>\n",
       "    <tr>\n",
       "      <th>84</th>\n",
       "      <td>Food</td>\n",
       "      <td>2020</td>\n",
       "      <td>12</td>\n",
       "      <td>5051</td>\n",
       "      <td>2020-12</td>\n",
       "    </tr>\n",
       "    <tr>\n",
       "      <th>85</th>\n",
       "      <td>Food</td>\n",
       "      <td>2021</td>\n",
       "      <td>01</td>\n",
       "      <td>5367</td>\n",
       "      <td>2021-01</td>\n",
       "    </tr>\n",
       "    <tr>\n",
       "      <th>86</th>\n",
       "      <td>Food</td>\n",
       "      <td>2021</td>\n",
       "      <td>02</td>\n",
       "      <td>5297</td>\n",
       "      <td>2021-02</td>\n",
       "    </tr>\n",
       "    <tr>\n",
       "      <th>87</th>\n",
       "      <td>Food</td>\n",
       "      <td>2021</td>\n",
       "      <td>03</td>\n",
       "      <td>5674</td>\n",
       "      <td>2021-03</td>\n",
       "    </tr>\n",
       "    <tr>\n",
       "      <th>88</th>\n",
       "      <td>Food</td>\n",
       "      <td>2021</td>\n",
       "      <td>04</td>\n",
       "      <td>5363</td>\n",
       "      <td>2021-04</td>\n",
       "    </tr>\n",
       "    <tr>\n",
       "      <th>89</th>\n",
       "      <td>Food</td>\n",
       "      <td>2021</td>\n",
       "      <td>05</td>\n",
       "      <td>6568</td>\n",
       "      <td>2021-05</td>\n",
       "    </tr>\n",
       "    <tr>\n",
       "      <th>90</th>\n",
       "      <td>Food</td>\n",
       "      <td>2021</td>\n",
       "      <td>06</td>\n",
       "      <td>2776</td>\n",
       "      <td>2021-06</td>\n",
       "    </tr>\n",
       "  </tbody>\n",
       "</table>\n",
       "</div>"
      ],
      "text/plain": [
       "   Category  Year Month  Score   Period\n",
       "78     Food  2020    06   1962  2020-06\n",
       "79     Food  2020    07   5247  2020-07\n",
       "80     Food  2020    08   5942  2020-08\n",
       "81     Food  2020    09   4939  2020-09\n",
       "82     Food  2020    10   6183  2020-10\n",
       "83     Food  2020    11   6307  2020-11\n",
       "84     Food  2020    12   5051  2020-12\n",
       "85     Food  2021    01   5367  2021-01\n",
       "86     Food  2021    02   5297  2021-02\n",
       "87     Food  2021    03   5674  2021-03\n",
       "88     Food  2021    04   5363  2021-04\n",
       "89     Food  2021    05   6568  2021-05\n",
       "90     Food  2021    06   2776  2021-06"
      ]
     },
     "execution_count": 39,
     "metadata": {},
     "output_type": "execute_result"
    }
   ],
   "source": [
    "#food - group category by 'Year' and 'Month'\n",
    "food = category_score_monthly[category_score_monthly['Category']==top5.iloc[4,0]]\n",
    "\n",
    "#Food - create a new moth-year column named 'Period'\n",
    "food['Period'] = food[['Year','Month']].agg('-'.join, axis=1)\n",
    "food"
   ]
  },
  {
   "cell_type": "code",
   "execution_count": 55,
   "metadata": {
    "scrolled": true
   },
   "outputs": [
    {
     "data": {
      "image/png": "[encoded data removed]",
      "text/plain": [
       "<Figure size 640x480 with 1 Axes>"
      ]
     },
     "metadata": {},
     "output_type": "display_data"
    }
   ],
   "source": [
    "#create line graph\n",
    "plt.figure(5)\n",
    "\n",
    "#define line graph\n",
    "plt.plot(food['Period'], food['Score'], color='purple', marker='+')\n",
    "\n",
    "#title\n",
    "plt.title('Score trend for Food category', fontsize=18, weight='semibold',pad=25, family='Arial')\n",
    "\n",
    "#x and y labels\n",
    "plt.xlabel('Year-Month', fontsize=14, weight='semibold', labelpad=18, family='Arial')\n",
    "plt.ylabel('Score', fontsize=14, weight='semibold', labelpad=18, family='Arial')\n",
    "\n",
    "#vertical labels on x-axis\n",
    "plt.xticks(rotation=90)\n",
    "\n",
    "#show grid lines\n",
    "plt.grid(True, color='grey', linestyle='--', linewidth = 0.1)\n",
    "\n",
    "#show line graph\n",
    "plt.show()"
   ]
  },
  {
   "cell_type": "markdown",
   "metadata": {},
   "source": [
    "### <font color=green>Graph of the top 5 Categories  </font>"
   ]
  },
  {
   "cell_type": "code",
   "execution_count": 99,
   "metadata": {
    "scrolled": true
   },
   "outputs": [
    {
     "data": {
      "image/png": "[encoded data removed]",
      "text/plain": [
       "<Figure size 640x480 with 1 Axes>"
      ]
     },
     "metadata": {},
     "output_type": "display_data"
    }
   ],
   "source": [
    "#create line graph\n",
    "plt.figure(6)\n",
    "\n",
    "#bar graph\n",
    "plt.barh(top5['Category'], top5['Score'])\n",
    "\n",
    "#title\n",
    "plt.title('Top 5 categories with the largest aggregate popularity', fontsize=18, weight='semibold',pad=25, family='Arial')\n",
    "\n",
    "#x and y labels\n",
    "plt.xlabel('Year-Month', fontsize=14, weight='semibold', labelpad=18, family='Arial')\n",
    "plt.ylabel('Score', fontsize=14, weight='semibold', labelpad=18, family='Arial')\n",
    "\n",
    "#Remove y Ticks\n",
    "plt.tick_params(axis='y', length = 0)\n",
    "\n",
    "#add grey grid lines\n",
    "plt.grid(visible = True, which='both', c='grey', lw=0.1)\n",
    "\n",
    "#show bar graph\n",
    "plt.show()"
   ]
  }
 ],
 "metadata": {
  "kernelspec": {
   "display_name": "Python 3 (ipykernel)",
   "language": "python",
   "name": "python3"
  },
  "language_info": {
   "codemirror_mode": {
    "name": "ipython",
    "version": 3
   },
   "file_extension": ".py",
   "mimetype": "text/x-python",
   "name": "python",
   "nbconvert_exporter": "python",
   "pygments_lexer": "ipython3",
   "version": "3.10.8"
  },
  "vscode": {
   "interpreter": {
    "hash": "8e227ee619b42d9eecf2200769f97d75245c3b4c9bf0bc4ffc152452ada21f01"
   }
  }
 },
 "nbformat": 4,
 "nbformat_minor": 2
}
